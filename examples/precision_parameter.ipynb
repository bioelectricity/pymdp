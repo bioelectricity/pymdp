{
 "cells": [
  {
   "cell_type": "code",
   "execution_count": 2,
   "metadata": {},
   "outputs": [],
   "source": [
    "\"\"\"Implementation of computational phenomenology of mental action by Lars Standved Smith\n",
    "https://colab.research.google.com/drive/1IiMWXRF3tGbVh9Ywm0LuD_Lmurvta04Q?usp=sharing#scrollTo=JWjsZs6SqZZe\n",
    "Using pymdp with precision updating \"\"\"\n",
    "\n",
    "import os \n",
    "import sys\n",
    "import pathlib\n",
    "path = pathlib.Path(os.getcwd())\n",
    "module_path = str(path.parent) + '/'\n",
    "sys.path.append(module_path)\n",
    "import numpy as np"
   ]
  },
  {
   "cell_type": "code",
   "execution_count": 9,
   "metadata": {},
   "outputs": [
    {
     "name": "stdout",
     "output_type": "stream",
     "text": [
      "A before scaling: [array([[0.75, 0.25],\n",
      "        [0.25, 0.75]])]\n",
      "A after scaling: [array([[0.9, 0.1],\n",
      "        [0.1, 0.9]])]\n"
     ]
    }
   ],
   "source": [
    "from pymdp.agent import Agent\n",
    "\n",
    "# We have three generative models that are stacked hierarchically \n",
    "\n",
    "#First (lowest level) generative model \n",
    "\n",
    "num_states = [2]\n",
    "num_factors = 1\n",
    "B = np.zeros((2,2,2))\n",
    "\n",
    "B[:,0,:] = [[0.8,0.2],[0.2,0.8]]\n",
    "B[:,1,:] = [[0.8,0.2],[0.2,0.8]]\n",
    "\n",
    "A = np.zeros((2,2))\n",
    "A[:,0] = [0.75,0.25]\n",
    "A[:,1] = [0.25,0.75]\n",
    "\n",
    "beta = np.array([0.5,2.0]) # precision of the observation model, i think it depends on the generative process \n",
    "\n",
    "D = np.array([0.5,0.5]) # initial prior over states\n",
    "\n",
    "C = np.zeros(2) #not sure what the observation prior is for the lowest level \n",
    "\n",
    "zeta = np.array([1.0])\n",
    "zeta_per_state = np.array([[1.0, 2.0]])\n",
    "\n",
    "omega = 0.5\n",
    "\n",
    "#does the lowest level agent have likelihood and transition precicsions?\n",
    "level_1_agent = Agent(A=A, B=B, C=C, D=D, zeta = zeta_per_state, omega = omega)\n"
   ]
  },
  {
   "cell_type": "code",
   "execution_count": 7,
   "metadata": {},
   "outputs": [
    {
     "data": {
      "text/plain": [
       "(1, 2)"
      ]
     },
     "execution_count": 7,
     "metadata": {},
     "output_type": "execute_result"
    }
   ],
   "source": [
    "zeta_per_state.shape"
   ]
  },
  {
   "cell_type": "code",
   "execution_count": null,
   "metadata": {},
   "outputs": [],
   "source": [
    "for t in range(T):\n",
    "    observation = [0,0]\n",
    "    "
   ]
  }
 ],
 "metadata": {
  "kernelspec": {
   "display_name": "Python 3",
   "language": "python",
   "name": "python3"
  },
  "language_info": {
   "codemirror_mode": {
    "name": "ipython",
    "version": 3
   },
   "file_extension": ".py",
   "mimetype": "text/x-python",
   "name": "python",
   "nbconvert_exporter": "python",
   "pygments_lexer": "ipython3",
   "version": "3.9.6"
  }
 },
 "nbformat": 4,
 "nbformat_minor": 2
}
