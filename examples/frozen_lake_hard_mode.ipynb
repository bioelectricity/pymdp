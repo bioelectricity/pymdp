{
 "cells": [
  {
   "cell_type": "code",
   "execution_count": 18,
   "metadata": {},
   "outputs": [],
   "source": [
    "import os \n",
    "import sys \n",
    "import pathlib \n",
    "path = pathlib.Path(os.getcwd())\n",
    "module_path = str(path.parent) + '/'\n",
    "sys.path.append(module_path)\n",
    "import numpy as np\n",
    "import matplotlib.pyplot as plt\n",
    "import seaborn as sns\n",
    "from pymdp import utils\n"
   ]
  },
  {
   "cell_type": "code",
   "execution_count": 20,
   "metadata": {},
   "outputs": [
    {
     "data": {
      "image/png": "[encoded data removed]",
      "text/plain": [
       "<Figure size 200x200 with 1 Axes>"
      ]
     },
     "metadata": {},
     "output_type": "display_data"
    }
   ],
   "source": [
    "import math\n",
    "\n",
    "\"\"\"Automated context switching\"\"\"\n",
    "\n",
    "map_context_1 = [\n",
    "    'SFFFF',\n",
    "    'FFFFF',\n",
    "    'FFFHF',\n",
    "    'FFGFF',\n",
    "    'FFFFF']\n",
    "\n",
    "map_context_2 = [\n",
    "    'SFFFF',\n",
    "    'FFFFF',\n",
    "    'FFFGF',\n",
    "    'FFHFF',\n",
    "    'FFFFF']\n",
    "\n",
    "map_context_1 = np.array([list(row) for row in map_context_1])\n",
    "\n",
    "map_context_2 = np.array([list(row) for row in map_context_2])\n",
    "grid_width = 5\n",
    "grid_height = 5\n",
    "\n",
    "def plot_grid(grid_width, grid_height, position = 0):\n",
    "\n",
    "    grid = np.zeros((grid_width, grid_height))\n",
    "\n",
    "    # grid[1,2] = 1\n",
    "    # grid[2,1] = -1\n",
    "    def set_grid(loc, val):\n",
    "        grid[math.floor(loc / 5), math.floor(loc % 5)] += val\n",
    "    \n",
    "    for loc in range(25):\n",
    "        set_grid(loc, 2)   \n",
    "    \n",
    "\n",
    "    # Plotting the array with each grid labeled with integers, indexed at 0 (without the colorbar)\n",
    "    fig, ax = plt.subplots(figsize = (2,2))\n",
    "    cax = ax.matshow(grid, cmap='viridis')\n",
    "\n",
    "    # Labeling each cell with the corresponding integer, adjusted for zero-indexing\n",
    "    for (i, j), val in np.ndenumerate(map_context_1):\n",
    "        ax.text(j, i, str(val ), ha='center', va='center', color='white')\n",
    "    plt.show()\n",
    "\n",
    "plot_grid(grid_width, grid_height)"
   ]
  },
  {
   "cell_type": "code",
   "execution_count": 21,
   "metadata": {},
   "outputs": [
    {
     "name": "stdout",
     "output_type": "stream",
     "text": [
      "grid_location_states: [(0, 0), (0, 1), (0, 2), (0, 3), (0, 4), (1, 0), (1, 1), (1, 2), (1, 3), (1, 4), (2, 0), (2, 1), (2, 2), (2, 3), (2, 4), (3, 0), (3, 1), (3, 2), (3, 3), (3, 4), (4, 0), (4, 1), (4, 2), (4, 3), (4, 4)]\n",
      " Length of grid_location_states: 25\n"
     ]
    }
   ],
   "source": [
    "\"\"\" Create variables for the storing the dimensionalities of the hidden states and the observations \"\"\"\n",
    "import itertools\n",
    "\n",
    "#HIDDEN STATES\n",
    "\"\"\" Create  the grid locations in the form of a list of (Y, X) tuples -- HINT: use itertools \"\"\"\n",
    "grid_location_states = list(itertools.product(range(grid_width), range(grid_height))) #hidden state\n",
    "context_names = ['Goal-18', 'Goal-14'] #context 0 and context 1\n",
    "\n",
    "print(f\"grid_location_states: {grid_location_states}\")\n",
    "print(f\" Length of grid_location_states: {len(grid_location_states)}\")\n",
    "\n",
    "\"\"\" Define `num_states` and `num_factors` below \"\"\"\n",
    "num_states = [len(grid_location_states), len(context_names)] #[25,2]\n",
    "num_state_factors = len(num_states) #2 hidden state factors\n",
    "\n",
    "location_action_names = [\"UP\", \"RIGHT\", \"DOWN\", \"LEFT\"] #, \"STAY\"]\n",
    "\n",
    "context_action_names = [\"Do-nothing\"]\n",
    "\"\"\" Define `num_controls` below \"\"\"\n",
    "num_controls = [len(location_action_names), len(context_action_names)] #num of actions\n",
    "\n",
    "#OBSERVATIONS\n",
    "grid_location_obs = list(itertools.product(range(grid_width), range(grid_height)))\n",
    "score_obs = [\"positive\", \"negative\", \"neutral\"]\n",
    "\n",
    "\"\"\" Define `num_obs` and `num_modalities` below \"\"\"\n",
    "num_obs = [len(grid_location_obs), len(score_obs)] # [25, 3]\n",
    "num_modalities = len(num_obs) #2 observation modalities"
   ]
  },
  {
   "cell_type": "code",
   "execution_count": 24,
   "metadata": {},
   "outputs": [
    {
     "data": {
      "text/plain": [
       "array([[[0.98, 0.98],\n",
       "        [0.01, 0.01],\n",
       "        [0.  , 0.  ],\n",
       "        ...,\n",
       "        [0.  , 0.  ],\n",
       "        [0.  , 0.  ],\n",
       "        [0.  , 0.  ]],\n",
       "\n",
       "       [[0.01, 0.01],\n",
       "        [0.97, 0.97],\n",
       "        [0.01, 0.01],\n",
       "        ...,\n",
       "        [0.  , 0.  ],\n",
       "        [0.  , 0.  ],\n",
       "        [0.  , 0.  ]],\n",
       "\n",
       "       [[0.  , 0.  ],\n",
       "        [0.01, 0.01],\n",
       "        [0.97, 0.97],\n",
       "        ...,\n",
       "        [0.  , 0.  ],\n",
       "        [0.  , 0.  ],\n",
       "        [0.  , 0.  ]],\n",
       "\n",
       "       ...,\n",
       "\n",
       "       [[0.  , 0.  ],\n",
       "        [0.  , 0.  ],\n",
       "        [0.  , 0.  ],\n",
       "        ...,\n",
       "        [0.97, 0.97],\n",
       "        [0.01, 0.01],\n",
       "        [0.  , 0.  ]],\n",
       "\n",
       "       [[0.  , 0.  ],\n",
       "        [0.  , 0.  ],\n",
       "        [0.  , 0.  ],\n",
       "        ...,\n",
       "        [0.01, 0.01],\n",
       "        [0.97, 0.97],\n",
       "        [0.01, 0.01]],\n",
       "\n",
       "       [[0.  , 0.  ],\n",
       "        [0.  , 0.  ],\n",
       "        [0.  , 0.  ],\n",
       "        ...,\n",
       "        [0.  , 0.  ],\n",
       "        [0.01, 0.01],\n",
       "        [0.98, 0.98]]])"
      ]
     },
     "execution_count": 24,
     "metadata": {},
     "output_type": "execute_result"
    }
   ],
   "source": [
    "\"\"\" Generate the A array \"\"\"\n",
    "A = utils.obj_array( num_modalities )\n",
    "\n",
    "def get_neighbors(i):\n",
    "    ns = []\n",
    "    if i >5:\n",
    "        ns.append(i-5)\n",
    "    if i < 20:\n",
    "        ns.append(i+5)\n",
    "    if i % 5 != 0:\n",
    "        ns.append(i-1)\n",
    "    if (i+1)% 5 != 0:\n",
    "        ns.append(i+1)\n",
    "    return ns\n",
    "    \n",
    "A_location = np.zeros((len(grid_location_obs), len(grid_location_states), len(context_names))) #[observation modality, SF1, SF2]\n",
    "\n",
    "for i in range(len(context_names)):\n",
    "    A_location[:,:,i] = np.zeros((len(grid_location_obs), len(grid_location_states)))\n",
    "    for j in range(len(grid_location_obs)):\n",
    "        ns = get_neighbors(j)\n",
    "        A_location[j,j,i] = 1.0 - len(ns) * .01\n",
    "        for n in ns:\n",
    "            A_location[j,n,i] = .01\n",
    "\n",
    "A[0] = A_location\n",
    "\n",
    "\n",
    "A_score = np.zeros((len(score_obs), len(grid_location_states), len(context_names))) #[observation modality, SF1, SF2]\n",
    "\n",
    "#for first context (Pos, Neg, Neutral)\n",
    "A_score[:,:,0] = np.array([[0,0,1]] * 25).T #\n",
    "A_score[:,17,0] = [1,0,0]\n",
    "A_score[:,14,0] = [0,1,0]\n",
    "\n",
    "#for second context\n",
    "A_score[:,:,1] = np.array([[0,0,1]] * 25).T\n",
    "A_score[:,14,1] = [1,0,0]\n",
    "A_score[:,17,1] = [0,1,0]\n",
    "\n",
    "A[1] = A_score\n",
    "\n",
    "A_location"
   ]
  },
  {
   "cell_type": "code",
   "execution_count": 25,
   "metadata": {},
   "outputs": [],
   "source": [
    "#Do we need to hardcode absorbing latent states in G and H?\n",
    "\n",
    "#location_action_names = [ \"UP\", \"DOWN\", \"LEFT\", \"RIGHT\"] #actions we can take\n",
    "\n",
    "#Initialize overall B\n",
    "\n",
    "B = utils.obj_array(len(num_states))\n",
    "\n",
    "#B[0]: State Factor 1: Location\n",
    "#9x9x4: [len(location), len(location), len(actions)]\n",
    "#depends on movement\n",
    "\n",
    "B_grid_movement = np.zeros((len(grid_location_states), len(grid_location_states), len(location_action_names))) #[observation modality, SF1, SF2]\n",
    "for i in range(25):\n",
    "    B_grid_movement[:,i,0] = np.zeros(25)\n",
    "    B_grid_movement[:,i,1] = np.zeros(25)\n",
    "    B_grid_movement[:,i,2] = np.zeros(25)\n",
    "    B_grid_movement[:,i,3] = np.zeros(25)\n",
    "    for j in range(25):\n",
    "        up_new_position = i - 5 if i > 5 else i\n",
    "        B_grid_movement[up_new_position,i,0] = 1\n",
    "        down_new_position = i + 5 if i < 20 else i\n",
    "        B_grid_movement[down_new_position,i,2] = 1\n",
    "        left_new_position = i if (i) % 5 == 0 else i - 1\n",
    "        B_grid_movement[left_new_position,i,2] = 1\n",
    "        right_new_position = i if (i + 1) % 5 == 0 else i + 1\n",
    "        B_grid_movement[right_new_position,i,1] = 1\n",
    "\n",
    "B[0] = B_grid_movement\n",
    "\n",
    "B_context = np.zeros((len(context_names), len(context_names), len(context_action_names)))\n",
    "\n",
    "B_context[:,:,0] = np.eye(len(context_names))\n",
    "\n",
    "B[1] = B_context\n"
   ]
  },
  {
   "cell_type": "code",
   "execution_count": 27,
   "metadata": {},
   "outputs": [],
   "source": [
    "#Overall C\n",
    "C = utils.obj_array( num_modalities )\n",
    "\n",
    "#Preference over Observation Modality 1: Grid Locations [-4, 0, ... 0]\n",
    "C_location = np.zeros(25)\n",
    "C_location[0] = -4 #we prefer to not stay in the starting location\n",
    "C[0] = C_location\n",
    "\n",
    "#Preference over Observation Modality 2: Scores [-4, 4, 0]\n",
    "C[1] = np.array([4, -4, 0]) #we prefer the goal state, we negatively prefer the hole state, and are neutral else"
   ]
  },
  {
   "cell_type": "code",
   "execution_count": 28,
   "metadata": {},
   "outputs": [],
   "source": [
    "#Overall D\n",
    "D = utils.obj_array( num_state_factors )\n",
    "\n",
    "#Prior over State Factor 1: Grid Locations: [1,0,0,0,0,0,0,0,0]\n",
    "D_location = np.zeros(25)\n",
    "D_location[0] = 1 # we have prior knowledge that our starting location is in position 1\n",
    "D[0] = D_location\n",
    "\n",
    "#Prior over State Factor 2: Context: Uniform [.5 .5]\n",
    "D[1] = np.array([.5, .5])"
   ]
  },
  {
   "cell_type": "code",
   "execution_count": 8,
   "metadata": {},
   "outputs": [
    {
     "data": {
      "text/plain": [
       "2"
      ]
     },
     "execution_count": 8,
     "metadata": {},
     "output_type": "execute_result"
    }
   ],
   "source": [
    "num_modalities"
   ]
  },
  {
   "cell_type": "code",
   "execution_count": 9,
   "metadata": {},
   "outputs": [
    {
     "data": {
      "text/plain": [
       "[25, 2]"
      ]
     },
     "execution_count": 9,
     "metadata": {},
     "output_type": "execute_result"
    }
   ],
   "source": [
    "num_states"
   ]
  },
  {
   "cell_type": "code",
   "execution_count": 29,
   "metadata": {},
   "outputs": [],
   "source": [
    "zeta_modalities_and_states = utils.obj_array(num_modalities)\n",
    "zeta_modalities_and_states[0] = np.random.uniform(0,1,size = (num_states[0], num_states[1]))\n",
    "zeta_modalities_and_states[1] = np.random.uniform(0,1,size = (num_states[0], num_states[1]))"
   ]
  },
  {
   "cell_type": "code",
   "execution_count": 11,
   "metadata": {},
   "outputs": [
    {
     "data": {
      "text/plain": [
       "(25, 4)"
      ]
     },
     "execution_count": 11,
     "metadata": {},
     "output_type": "execute_result"
    }
   ],
   "source": [
    "B[0].shape[1:]\n"
   ]
  },
  {
   "cell_type": "code",
   "execution_count": 30,
   "metadata": {},
   "outputs": [],
   "source": [
    "omega_modalities_and_states = utils.obj_array(2)\n",
    "omega_modalities_and_states[0] = np.random.uniform(0,1,size = B[0].shape[1:])\n",
    "omega_modalities_and_states[1] = np.random.uniform(0,1,size = B[1].shape[1:])"
   ]
  },
  {
   "cell_type": "code",
   "execution_count": 31,
   "metadata": {},
   "outputs": [],
   "source": [
    "from pymdp import agent\n",
    "policy_len = 6\n",
    "agent_zeta_omega = agent.Agent(A = A, B = B, C = C, D = D, policy_len = policy_len, beta_omega_prior = omega_modalities_and_states, beta_zeta_prior = zeta_modalities_and_states) #policy length = number of actions in policies"
   ]
  },
  {
   "cell_type": "code",
   "execution_count": 32,
   "metadata": {},
   "outputs": [],
   "source": [
    "#Auxiliary function that takes in agent and outputs score ... Environment step function will have two step\n",
    "def score_from_location(location):\n",
    "  if location == 7:\n",
    "    score = 0\n",
    "\n",
    "  elif location == 5:\n",
    "    score = 1\n",
    "\n",
    "  else:\n",
    "    score = 2\n",
    "\n",
    "  return score"
   ]
  },
  {
   "cell_type": "markdown",
   "metadata": {},
   "source": []
  },
  {
   "cell_type": "code",
   "execution_count": 35,
   "metadata": {},
   "outputs": [
    {
     "name": "stdout",
     "output_type": "stream",
     "text": [
      "TIMESTEP: 0\n",
      "next_action: LEFT\n",
      "location_observation: 0\n",
      "score_observation: 2\n"
     ]
    },
    {
     "data": {
      "image/png": "[encoded data removed]",
      "text/plain": [
       "<Figure size 200x200 with 1 Axes>"
      ]
     },
     "metadata": {},
     "output_type": "display_data"
    },
    {
     "name": "stdout",
     "output_type": "stream",
     "text": [
      "TIMESTEP: 1\n",
      "next_action: LEFT\n",
      "location_observation: 0\n",
      "score_observation: 2\n"
     ]
    },
    {
     "data": {
      "image/png": "[encoded data removed]",
      "text/plain": [
       "<Figure size 200x200 with 1 Axes>"
      ]
     },
     "metadata": {},
     "output_type": "display_data"
    },
    {
     "name": "stdout",
     "output_type": "stream",
     "text": [
      "TIMESTEP: 2\n",
      "next_action: LEFT\n",
      "location_observation: 0\n",
      "score_observation: 2\n"
     ]
    },
    {
     "data": {
      "image/png": "[encoded data removed]",
      "text/plain": [
       "<Figure size 200x200 with 1 Axes>"
      ]
     },
     "metadata": {},
     "output_type": "display_data"
    },
    {
     "name": "stdout",
     "output_type": "stream",
     "text": [
      "TIMESTEP: 3\n",
      "next_action: LEFT\n",
      "location_observation: 0\n",
      "score_observation: 2\n"
     ]
    },
    {
     "data": {
      "image/png": "[encoded data removed]",
      "text/plain": [
       "<Figure size 200x200 with 1 Axes>"
      ]
     },
     "metadata": {},
     "output_type": "display_data"
    },
    {
     "name": "stdout",
     "output_type": "stream",
     "text": [
      "TIMESTEP: 4\n",
      "next_action: LEFT\n",
      "location_observation: 0\n",
      "score_observation: 2\n"
     ]
    },
    {
     "data": {
      "image/png": "[encoded data removed]",
      "text/plain": [
       "<Figure size 200x200 with 1 Axes>"
      ]
     },
     "metadata": {},
     "output_type": "display_data"
    },
    {
     "name": "stdout",
     "output_type": "stream",
     "text": [
      "TIMESTEP: 5\n",
      "next_action: LEFT\n",
      "location_observation: 0\n",
      "score_observation: 2\n"
     ]
    },
    {
     "data": {
      "image/png": "[encoded data removed]",
      "text/plain": [
       "<Figure size 200x200 with 1 Axes>"
      ]
     },
     "metadata": {},
     "output_type": "display_data"
    },
    {
     "name": "stdout",
     "output_type": "stream",
     "text": [
      "TIMESTEP: 6\n",
      "next_action: LEFT\n",
      "location_observation: 0\n",
      "score_observation: 2\n"
     ]
    },
    {
     "data": {
      "image/png": "[encoded data removed]",
      "text/plain": [
       "<Figure size 200x200 with 1 Axes>"
      ]
     },
     "metadata": {},
     "output_type": "display_data"
    },
    {
     "name": "stdout",
     "output_type": "stream",
     "text": [
      "TIMESTEP: 7\n"
     ]
    },
    {
     "ename": "KeyboardInterrupt",
     "evalue": "",
     "output_type": "error",
     "traceback": [
      "\u001b[0;31m---------------------------------------------------------------------------\u001b[0m",
      "\u001b[0;31mKeyboardInterrupt\u001b[0m                         Traceback (most recent call last)",
      "Cell \u001b[0;32mIn[35], line 34\u001b[0m\n\u001b[1;32m     30\u001b[0m \u001b[38;5;28mprint\u001b[39m(\u001b[38;5;124mf\u001b[39m\u001b[38;5;124m\"\u001b[39m\u001b[38;5;124mTIMESTEP: \u001b[39m\u001b[38;5;132;01m{\u001b[39;00mt\u001b[38;5;132;01m}\u001b[39;00m\u001b[38;5;124m\"\u001b[39m)\n\u001b[1;32m     32\u001b[0m qs \u001b[38;5;241m=\u001b[39m agent\u001b[38;5;241m.\u001b[39minfer_states(observation)\n\u001b[0;32m---> 34\u001b[0m q_pi, G \u001b[38;5;241m=\u001b[39m \u001b[43magent\u001b[49m\u001b[38;5;241;43m.\u001b[39;49m\u001b[43minfer_policies\u001b[49m\u001b[43m(\u001b[49m\u001b[43m)\u001b[49m\n\u001b[1;32m     35\u001b[0m next_action \u001b[38;5;241m=\u001b[39m agent\u001b[38;5;241m.\u001b[39msample_action()\n\u001b[1;32m     36\u001b[0m next_action \u001b[38;5;241m=\u001b[39m \u001b[38;5;28mint\u001b[39m(next_action[\u001b[38;5;241m0\u001b[39m])\n",
      "File \u001b[0;32m~/code/pymdp/pymdp/agent.py:699\u001b[0m, in \u001b[0;36mAgent.infer_policies\u001b[0;34m(self)\u001b[0m\n\u001b[1;32m    696\u001b[0m     \u001b[38;5;28mself\u001b[39m\u001b[38;5;241m.\u001b[39mqs_pi_policy_previous \u001b[38;5;241m=\u001b[39m \u001b[38;5;28mself\u001b[39m\u001b[38;5;241m.\u001b[39mqs_pi_policy\n\u001b[1;32m    698\u001b[0m \u001b[38;5;28;01mif\u001b[39;00m \u001b[38;5;28mself\u001b[39m\u001b[38;5;241m.\u001b[39minference_algo \u001b[38;5;241m==\u001b[39m \u001b[38;5;124m\"\u001b[39m\u001b[38;5;124mVANILLA\u001b[39m\u001b[38;5;124m\"\u001b[39m:\n\u001b[0;32m--> 699\u001b[0m     q_pi, G, \u001b[38;5;28mself\u001b[39m\u001b[38;5;241m.\u001b[39mqs_pi_policy \u001b[38;5;241m=\u001b[39m \u001b[43mcontrol\u001b[49m\u001b[38;5;241;43m.\u001b[39;49m\u001b[43mupdate_posterior_policies_factorized\u001b[49m\u001b[43m(\u001b[49m\n\u001b[1;32m    700\u001b[0m \u001b[43m        \u001b[49m\u001b[38;5;28;43mself\u001b[39;49m\u001b[38;5;241;43m.\u001b[39;49m\u001b[43mqs\u001b[49m\u001b[43m,\u001b[49m\n\u001b[1;32m    701\u001b[0m \u001b[43m        \u001b[49m\u001b[38;5;28;43mself\u001b[39;49m\u001b[38;5;241;43m.\u001b[39;49m\u001b[43mA\u001b[49m\u001b[43m,\u001b[49m\n\u001b[1;32m    702\u001b[0m \u001b[43m        \u001b[49m\u001b[38;5;28;43mself\u001b[39;49m\u001b[38;5;241;43m.\u001b[39;49m\u001b[43mB\u001b[49m\u001b[43m,\u001b[49m\n\u001b[1;32m    703\u001b[0m \u001b[43m        \u001b[49m\u001b[38;5;28;43mself\u001b[39;49m\u001b[38;5;241;43m.\u001b[39;49m\u001b[43mC\u001b[49m\u001b[43m,\u001b[49m\n\u001b[1;32m    704\u001b[0m \u001b[43m        \u001b[49m\u001b[38;5;28;43mself\u001b[39;49m\u001b[38;5;241;43m.\u001b[39;49m\u001b[43mA_factor_list\u001b[49m\u001b[43m,\u001b[49m\n\u001b[1;32m    705\u001b[0m \u001b[43m        \u001b[49m\u001b[38;5;28;43mself\u001b[39;49m\u001b[38;5;241;43m.\u001b[39;49m\u001b[43mB_factor_list\u001b[49m\u001b[43m,\u001b[49m\n\u001b[1;32m    706\u001b[0m \u001b[43m        \u001b[49m\u001b[38;5;28;43mself\u001b[39;49m\u001b[38;5;241;43m.\u001b[39;49m\u001b[43mpolicies\u001b[49m\u001b[43m,\u001b[49m\n\u001b[1;32m    707\u001b[0m \u001b[43m        \u001b[49m\u001b[38;5;28;43mself\u001b[39;49m\u001b[38;5;241;43m.\u001b[39;49m\u001b[43muse_utility\u001b[49m\u001b[43m,\u001b[49m\n\u001b[1;32m    708\u001b[0m \u001b[43m        \u001b[49m\u001b[38;5;28;43mself\u001b[39;49m\u001b[38;5;241;43m.\u001b[39;49m\u001b[43muse_states_info_gain\u001b[49m\u001b[43m,\u001b[49m\n\u001b[1;32m    709\u001b[0m \u001b[43m        \u001b[49m\u001b[38;5;28;43mself\u001b[39;49m\u001b[38;5;241;43m.\u001b[39;49m\u001b[43muse_param_info_gain\u001b[49m\u001b[43m,\u001b[49m\n\u001b[1;32m    710\u001b[0m \u001b[43m        \u001b[49m\u001b[38;5;28;43mself\u001b[39;49m\u001b[38;5;241;43m.\u001b[39;49m\u001b[43mpA\u001b[49m\u001b[43m,\u001b[49m\n\u001b[1;32m    711\u001b[0m \u001b[43m        \u001b[49m\u001b[38;5;28;43mself\u001b[39;49m\u001b[38;5;241;43m.\u001b[39;49m\u001b[43mpB\u001b[49m\u001b[43m,\u001b[49m\n\u001b[1;32m    712\u001b[0m \u001b[43m        \u001b[49m\u001b[43mE\u001b[49m\u001b[38;5;241;43m=\u001b[39;49m\u001b[38;5;28;43mself\u001b[39;49m\u001b[38;5;241;43m.\u001b[39;49m\u001b[43mE\u001b[49m\u001b[43m,\u001b[49m\n\u001b[1;32m    713\u001b[0m \u001b[43m        \u001b[49m\u001b[43mI\u001b[49m\u001b[38;5;241;43m=\u001b[39;49m\u001b[38;5;28;43mself\u001b[39;49m\u001b[38;5;241;43m.\u001b[39;49m\u001b[43mI\u001b[49m\u001b[43m,\u001b[49m\n\u001b[1;32m    714\u001b[0m \u001b[43m        \u001b[49m\u001b[43mgamma\u001b[49m\u001b[38;5;241;43m=\u001b[39;49m\u001b[38;5;28;43mself\u001b[39;49m\u001b[38;5;241;43m.\u001b[39;49m\u001b[43mgamma\u001b[49m\n\u001b[1;32m    715\u001b[0m \u001b[43m    \u001b[49m\u001b[43m)\u001b[49m\n\u001b[1;32m    716\u001b[0m \u001b[38;5;28;01melif\u001b[39;00m \u001b[38;5;28mself\u001b[39m\u001b[38;5;241m.\u001b[39minference_algo \u001b[38;5;241m==\u001b[39m \u001b[38;5;124m\"\u001b[39m\u001b[38;5;124mMMP\u001b[39m\u001b[38;5;124m\"\u001b[39m:\n\u001b[1;32m    718\u001b[0m     future_qs_seq \u001b[38;5;241m=\u001b[39m \u001b[38;5;28mself\u001b[39m\u001b[38;5;241m.\u001b[39mget_future_qs()\n",
      "File \u001b[0;32m~/code/pymdp/pymdp/control.py:457\u001b[0m, in \u001b[0;36mupdate_posterior_policies_factorized\u001b[0;34m(qs, A, B, C, A_factor_list, B_factor_list, policies, use_utility, use_states_info_gain, use_param_info_gain, pA, pB, E, I, gamma)\u001b[0m\n\u001b[1;32m    454\u001b[0m     G[idx] \u001b[38;5;241m+\u001b[39m\u001b[38;5;241m=\u001b[39m calc_expected_utility(qo_pi, C)\n\u001b[1;32m    456\u001b[0m \u001b[38;5;28;01mif\u001b[39;00m use_states_info_gain:\n\u001b[0;32m--> 457\u001b[0m     G[idx] \u001b[38;5;241m+\u001b[39m\u001b[38;5;241m=\u001b[39m \u001b[43mcalc_states_info_gain_factorized\u001b[49m\u001b[43m(\u001b[49m\u001b[43mA\u001b[49m\u001b[43m,\u001b[49m\u001b[43m \u001b[49m\u001b[43mqs_pi\u001b[49m\u001b[43m,\u001b[49m\u001b[43m \u001b[49m\u001b[43mA_factor_list\u001b[49m\u001b[43m)\u001b[49m\n\u001b[1;32m    459\u001b[0m \u001b[38;5;28;01mif\u001b[39;00m use_param_info_gain:\n\u001b[1;32m    460\u001b[0m     \u001b[38;5;28;01mif\u001b[39;00m pA \u001b[38;5;129;01mis\u001b[39;00m \u001b[38;5;129;01mnot\u001b[39;00m \u001b[38;5;28;01mNone\u001b[39;00m:\n",
      "File \u001b[0;32m~/code/pymdp/pymdp/control.py:724\u001b[0m, in \u001b[0;36mcalc_states_info_gain_factorized\u001b[0;34m(A, qs_pi, A_factor_list)\u001b[0m\n\u001b[1;32m    722\u001b[0m     \u001b[38;5;28;01mfor\u001b[39;00m m, A_m \u001b[38;5;129;01min\u001b[39;00m \u001b[38;5;28menumerate\u001b[39m(A):\n\u001b[1;32m    723\u001b[0m         factor_idx \u001b[38;5;241m=\u001b[39m A_factor_list[m] \u001b[38;5;66;03m# list of the hidden state factor indices that observation modality with the index `m` depends on\u001b[39;00m\n\u001b[0;32m--> 724\u001b[0m         states_surprise \u001b[38;5;241m+\u001b[39m\u001b[38;5;241m=\u001b[39m \u001b[43mspm_MDP_G\u001b[49m\u001b[43m(\u001b[49m\u001b[43mA_m\u001b[49m\u001b[43m,\u001b[49m\u001b[43m \u001b[49m\u001b[43mqs_pi\u001b[49m\u001b[43m[\u001b[49m\u001b[43mt\u001b[49m\u001b[43m]\u001b[49m\u001b[43m[\u001b[49m\u001b[43mfactor_idx\u001b[49m\u001b[43m]\u001b[49m\u001b[43m)\u001b[49m\n\u001b[1;32m    726\u001b[0m \u001b[38;5;28;01mreturn\u001b[39;00m states_surprise\n",
      "File \u001b[0;32m~/code/pymdp/pymdp/maths.py:545\u001b[0m, in \u001b[0;36mspm_MDP_G\u001b[0;34m(A, x)\u001b[0m\n\u001b[1;32m    543\u001b[0m po \u001b[38;5;241m=\u001b[39m np\u001b[38;5;241m.\u001b[39mones(\u001b[38;5;241m1\u001b[39m)\n\u001b[1;32m    544\u001b[0m index_vector \u001b[38;5;241m=\u001b[39m [\u001b[38;5;28mslice\u001b[39m(\u001b[38;5;241m0\u001b[39m, A\u001b[38;5;241m.\u001b[39mshape[\u001b[38;5;241m0\u001b[39m])] \u001b[38;5;241m+\u001b[39m \u001b[38;5;28mlist\u001b[39m(i)\n\u001b[0;32m--> 545\u001b[0m po \u001b[38;5;241m=\u001b[39m \u001b[43mspm_cross\u001b[49m\u001b[43m(\u001b[49m\u001b[43mpo\u001b[49m\u001b[43m,\u001b[49m\u001b[43m \u001b[49m\u001b[43mA\u001b[49m\u001b[43m[\u001b[49m\u001b[38;5;28;43mtuple\u001b[39;49m\u001b[43m(\u001b[49m\u001b[43mindex_vector\u001b[49m\u001b[43m)\u001b[49m\u001b[43m]\u001b[49m\u001b[43m)\u001b[49m\n\u001b[1;32m    546\u001b[0m po \u001b[38;5;241m=\u001b[39m po\u001b[38;5;241m.\u001b[39mravel()\n\u001b[1;32m    547\u001b[0m qo \u001b[38;5;241m+\u001b[39m\u001b[38;5;241m=\u001b[39m qx[\u001b[38;5;28mtuple\u001b[39m(i)] \u001b[38;5;241m*\u001b[39m po\n",
      "File \u001b[0;32m~/code/pymdp/pymdp/maths.py:211\u001b[0m, in \u001b[0;36mspm_cross\u001b[0;34m(x, y, *args)\u001b[0m\n\u001b[1;32m    208\u001b[0m reshape_dims \u001b[38;5;241m=\u001b[39m \u001b[38;5;28mtuple\u001b[39m(\u001b[38;5;28mlist\u001b[39m(x\u001b[38;5;241m.\u001b[39mshape) \u001b[38;5;241m+\u001b[39m \u001b[38;5;28mlist\u001b[39m(np\u001b[38;5;241m.\u001b[39mones(y\u001b[38;5;241m.\u001b[39mndim, dtype\u001b[38;5;241m=\u001b[39m\u001b[38;5;28mint\u001b[39m)))\n\u001b[1;32m    209\u001b[0m A \u001b[38;5;241m=\u001b[39m x\u001b[38;5;241m.\u001b[39mreshape(reshape_dims)\n\u001b[0;32m--> 211\u001b[0m reshape_dims \u001b[38;5;241m=\u001b[39m \u001b[38;5;28mtuple\u001b[39m(\u001b[38;5;28mlist\u001b[39m(\u001b[43mnp\u001b[49m\u001b[38;5;241;43m.\u001b[39;49m\u001b[43mones\u001b[49m\u001b[43m(\u001b[49m\u001b[43mx\u001b[49m\u001b[38;5;241;43m.\u001b[39;49m\u001b[43mndim\u001b[49m\u001b[43m,\u001b[49m\u001b[43m \u001b[49m\u001b[43mdtype\u001b[49m\u001b[38;5;241;43m=\u001b[39;49m\u001b[38;5;28;43mint\u001b[39;49m\u001b[43m)\u001b[49m) \u001b[38;5;241m+\u001b[39m \u001b[38;5;28mlist\u001b[39m(y\u001b[38;5;241m.\u001b[39mshape))\n\u001b[1;32m    212\u001b[0m B \u001b[38;5;241m=\u001b[39m y\u001b[38;5;241m.\u001b[39mreshape(reshape_dims)\n\u001b[1;32m    213\u001b[0m z \u001b[38;5;241m=\u001b[39m np\u001b[38;5;241m.\u001b[39msqueeze(A \u001b[38;5;241m*\u001b[39m B)\n",
      "File \u001b[0;32m~/.local/lib/python3.10/site-packages/numpy/core/numeric.py:192\u001b[0m, in \u001b[0;36mones\u001b[0;34m(shape, dtype, order, like)\u001b[0m\n\u001b[1;32m    189\u001b[0m     \u001b[38;5;28;01mreturn\u001b[39;00m _ones_with_like(like, shape, dtype\u001b[38;5;241m=\u001b[39mdtype, order\u001b[38;5;241m=\u001b[39morder)\n\u001b[1;32m    191\u001b[0m a \u001b[38;5;241m=\u001b[39m empty(shape, dtype, order)\n\u001b[0;32m--> 192\u001b[0m \u001b[43mmultiarray\u001b[49m\u001b[38;5;241;43m.\u001b[39;49m\u001b[43mcopyto\u001b[49m\u001b[43m(\u001b[49m\u001b[43ma\u001b[49m\u001b[43m,\u001b[49m\u001b[43m \u001b[49m\u001b[38;5;241;43m1\u001b[39;49m\u001b[43m,\u001b[49m\u001b[43m \u001b[49m\u001b[43mcasting\u001b[49m\u001b[38;5;241;43m=\u001b[39;49m\u001b[38;5;124;43m'\u001b[39;49m\u001b[38;5;124;43munsafe\u001b[39;49m\u001b[38;5;124;43m'\u001b[39;49m\u001b[43m)\u001b[49m\n\u001b[1;32m    193\u001b[0m \u001b[38;5;28;01mreturn\u001b[39;00m a\n",
      "\u001b[0;31mKeyboardInterrupt\u001b[0m: "
     ]
    }
   ],
   "source": [
    "#make sure whatever comes out of env is [list of indices] over observations and pass this to agent.infer_states\n",
    "from pymdp.envs.grid_worlds import GridWorldEnv\n",
    "from random import random \n",
    "import math\n",
    "\n",
    "env = GridWorldEnv(shape = [3,3], init_state=0)\n",
    "\n",
    "T = 10\n",
    "\n",
    "agent = agent_zeta_omega\n",
    "\n",
    "# agent will have perception that their location is offset slightly\n",
    "def apply_foggy_location(loc):\n",
    "    r = random()\n",
    "    if r < .25: # up\n",
    "        loc = math.min(0, loc - 5)\n",
    "    elif r < .5: # down\n",
    "        loc = math.max(24, loc + 5)\n",
    "    elif r < .75: # left\n",
    "        loc = loc - 1 if loc - 1 % 5 != 0 else loc\n",
    "    else: # right\n",
    "        loc = loc - 1 if loc % 5 != 0 else loc\n",
    "    loc\n",
    "\n",
    "initial_location_observation = 0\n",
    "initial_score_observation = score_from_location(initial_location_observation)\n",
    "observation = [0, 2]\n",
    "\n",
    "for t in range(T):\n",
    "    print(f\"TIMESTEP: {t}\")\n",
    "\n",
    "    qs = agent.infer_states(observation)\n",
    "\n",
    "    q_pi, G = agent.infer_policies()\n",
    "    next_action = agent.sample_action()\n",
    "    next_action = int(next_action[0])\n",
    "    print(f\"next_action: {location_action_names[next_action]}\")\n",
    "    location_observation = env.step(next_action)\n",
    "    is_slippery = t + 2 % 3 == 0\n",
    "    if is_slippery:\n",
    "        # replay the action to slip in the same direction\n",
    "        location_observation = env.step(next_action)\n",
    "    is_foggy = t + 1 % 3 == 0\n",
    "    if is_foggy:\n",
    "        location_observation = apply_foggy_location(location_observation)\n",
    "    \n",
    "    print(f\"location_observation: {location_observation}\")\n",
    "    score_observation = score_from_location(location_observation)\n",
    "    print(f\"score_observation: {score_observation}\")\n",
    "    observation = [location_observation, score_observation]\n",
    "\n",
    "    \n",
    "    plot_grid(grid_width, grid_height, location_observation)\n",
    "\n",
    "    if t > 0:\n",
    "\n",
    "        agent.beta_omega, agent.beta_omega_prior = agent.update_omega()\n",
    "        # print(f\"Omega: {agent.beta_omega}\")\n",
    "\n",
    "        agent.beta_zeta, agent.beta_zeta_prior = agent.update_zeta(observation)\n",
    "        # print(f\"Zeta: {agent.beta_zeta}\")\n",
    "        # agent.gamma = agent.update_gamma()\n",
    "\n",
    "        # print(f\"Gamma: {agent.gamma}\")\n"
   ]
  },
  {
   "cell_type": "code",
   "execution_count": null,
   "metadata": {},
   "outputs": [
    {
     "data": {
      "text/plain": [
       "array([-14.54167755, -13.78274122, -12.9160894 , -13.01164456,\n",
       "       -19.86410277, -19.87161027, -19.86410317, -22.30062236,\n",
       "       -14.54474054, -13.78384043, -12.91396635, -13.01130377,\n",
       "       -22.30062236, -15.8641029 , -15.86444378, -18.30062236,\n",
       "       -13.9402432 , -12.89944618, -11.78491695, -11.91819675,\n",
       "       -12.1343841 , -11.63487643, -11.04288785, -11.09132171,\n",
       "       -11.12206495, -11.01116396,  -9.75338765,  -9.82022391,\n",
       "       -12.24374166, -11.05744712,  -9.82430681, -10.84920907,\n",
       "       -11.86409733, -18.30062236, -11.86410071, -14.30062236,\n",
       "       -10.54472838,  -9.7838378 ,  -8.91398112,  -9.01125266,\n",
       "       -10.30062236,  -7.8641032 ,  -6.30062237, -10.30062237,\n",
       "       -11.86410322, -11.86408206, -14.27386339, -11.86409679,\n",
       "       -14.544781  , -13.78383853, -12.91397433, -13.01131854,\n",
       "       -14.54472011, -13.78382028, -12.91393343, -13.01128759,\n",
       "       -15.83979659, -15.83794843, -18.22412062, -15.83549005,\n",
       "       -14.54376249, -13.78348759, -12.91464046, -13.01140918])"
      ]
     },
     "execution_count": 16,
     "metadata": {},
     "output_type": "execute_result"
    }
   ],
   "source": [
    "agent.G"
   ]
  },
  {
   "cell_type": "code",
   "execution_count": null,
   "metadata": {},
   "outputs": [
    {
     "data": {
      "text/plain": [
       "array([array([[1.04641062, 1.12407966, 1.90722197, 2.87954153],\n",
       "              [1.98093411, 2.01459376, 0.16364769, 2.73837091],\n",
       "              [0.01734638, 0.47216457, 2.36763314, 2.71352072],\n",
       "              [0.25694375, 2.17180763, 1.48722223, 0.8161247 ],\n",
       "              [1.64744806, 0.69815402, 2.81695809, 0.66661982],\n",
       "              [2.13072642, 1.59612869, 2.31785594, 0.88172218],\n",
       "              [2.385512  , 2.52172991, 1.12256972, 1.79496446],\n",
       "              [0.7107597 , 2.36616359, 0.79545244, 0.22311784],\n",
       "              [2.61872887, 2.38711898, 0.25501791, 1.0701027 ]]),\n",
       "       array([[8.28373598e-02],\n",
       "              [1.12728862e+02]])], dtype=object)"
      ]
     },
     "execution_count": 17,
     "metadata": {},
     "output_type": "execute_result"
    }
   ],
   "source": [
    "agent.beta_omega"
   ]
  },
  {
   "cell_type": "code",
   "execution_count": null,
   "metadata": {},
   "outputs": [
    {
     "data": {
      "text/plain": [
       "array([array([[0.34880354, 0.37469322, 0.63574066, 0.95984718],\n",
       "              [0.66031137, 0.67153125, 0.05454923, 0.9127903 ],\n",
       "              [0.00578213, 0.15738819, 0.78921105, 0.90450691],\n",
       "              [0.08564792, 0.72393588, 0.49574074, 0.27204157],\n",
       "              [0.54914935, 0.23271801, 0.93898603, 0.22220661],\n",
       "              [0.71024214, 0.5320429 , 0.77261865, 0.29390739],\n",
       "              [0.79517067, 0.84057664, 0.37418991, 0.59832149],\n",
       "              [0.2369199 , 0.7887212 , 0.26515081, 0.07437261],\n",
       "              [0.87290962, 0.79570633, 0.08500597, 0.3567009 ]]),\n",
       "       array([[0.02761245],\n",
       "              [0.734926  ]])], dtype=object)"
      ]
     },
     "execution_count": 18,
     "metadata": {},
     "output_type": "execute_result"
    }
   ],
   "source": [
    "agent.beta_omega_prior"
   ]
  },
  {
   "cell_type": "code",
   "execution_count": null,
   "metadata": {},
   "outputs": [
    {
     "data": {
      "text/plain": [
       "array([[0.34880354, 0.37469322, 0.63574066, 0.95984718],\n",
       "       [0.66031137, 0.67153125, 0.05454923, 0.9127903 ],\n",
       "       [0.00578213, 0.15738819, 0.78921105, 0.90450691],\n",
       "       [0.08564792, 0.72393588, 0.49574074, 0.27204157],\n",
       "       [0.54914935, 0.23271801, 0.93898603, 0.22220661],\n",
       "       [0.71024214, 0.5320429 , 0.77261865, 0.29390739],\n",
       "       [0.79517067, 0.84057664, 0.37418991, 0.59832149],\n",
       "       [0.2369199 , 0.7887212 , 0.26515081, 0.07437261],\n",
       "       [0.87290962, 0.79570633, 0.08500597, 0.3567009 ]])"
      ]
     },
     "execution_count": 19,
     "metadata": {},
     "output_type": "execute_result"
    }
   ],
   "source": [
    "agent.beta_omega_prior[0]"
   ]
  },
  {
   "cell_type": "code",
   "execution_count": null,
   "metadata": {},
   "outputs": [
    {
     "data": {
      "text/plain": [
       "array([0., 0., 0., 0., 0., 0., 0., 0., 0., 0., 0., 0., 0., 0., 0., 0., 0.,\n",
       "       0., 0., 0., 0., 0., 0., 0., 0., 0., 0., 0., 0., 0., 0., 0., 0., 0.,\n",
       "       0., 0., 0., 0., 0., 0., 0., 0., 1., 0., 0., 0., 0., 0., 0., 0., 0.,\n",
       "       0., 0., 0., 0., 0., 0., 0., 0., 0., 0., 0., 0., 0.])"
      ]
     },
     "execution_count": 20,
     "metadata": {},
     "output_type": "execute_result"
    }
   ],
   "source": [
    "agent.q_pi"
   ]
  },
  {
   "cell_type": "code",
   "execution_count": null,
   "metadata": {},
   "outputs": [],
   "source": []
  },
  {
   "cell_type": "code",
   "execution_count": null,
   "metadata": {},
   "outputs": [],
   "source": []
  },
  {
   "cell_type": "code",
   "execution_count": null,
   "metadata": {},
   "outputs": [],
   "source": []
  }
 ],
 "metadata": {
  "kernelspec": {
   "display_name": "Python 3",
   "language": "python",
   "name": "python3"
  },
  "language_info": {
   "codemirror_mode": {
    "name": "ipython",
    "version": 3
   },
   "file_extension": ".py",
   "mimetype": "text/x-python",
   "name": "python",
   "nbconvert_exporter": "python",
   "pygments_lexer": "ipython3",
   "version": "3.10.13"
  }
 },
 "nbformat": 4,
 "nbformat_minor": 2
}
