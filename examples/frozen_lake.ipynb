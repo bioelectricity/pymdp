{
 "cells": [
  {
   "cell_type": "code",
   "execution_count": 3,
   "metadata": {},
   "outputs": [],
   "source": [
    "import os \n",
    "import sys \n",
    "import pathlib \n",
    "path = pathlib.Path(os.getcwd())\n",
    "module_path = str(path.parent) + '/'\n",
    "sys.path.append(module_path)\n",
    "import numpy as np\n",
    "import matplotlib.pyplot as plt\n",
    "import seaborn as sns\n",
    "from pymdp import utils\n"
   ]
  },
  {
   "cell_type": "code",
   "execution_count": 5,
   "metadata": {},
   "outputs": [
    {
     "ename": "ModuleNotFoundError",
     "evalue": "No module named 'gym'",
     "output_type": "error",
     "traceback": [
      "\u001b[0;31m---------------------------------------------------------------------------\u001b[0m",
      "\u001b[0;31mModuleNotFoundError\u001b[0m                       Traceback (most recent call last)",
      "Cell \u001b[0;32mIn[5], line 1\u001b[0m\n\u001b[0;32m----> 1\u001b[0m \u001b[38;5;28;01mimport\u001b[39;00m \u001b[38;5;21;01mgym\u001b[39;00m\n\u001b[1;32m      3\u001b[0m \u001b[38;5;124;03m\"\"\"Automated context switching\"\"\"\u001b[39;00m\n\u001b[1;32m      5\u001b[0m map_context_1 \u001b[38;5;241m=\u001b[39m [\n\u001b[1;32m      6\u001b[0m     \u001b[38;5;124m'\u001b[39m\u001b[38;5;124mSFF\u001b[39m\u001b[38;5;124m'\u001b[39m,\n\u001b[1;32m      7\u001b[0m     \u001b[38;5;124m'\u001b[39m\u001b[38;5;124mFFH\u001b[39m\u001b[38;5;124m'\u001b[39m,\n\u001b[1;32m      8\u001b[0m     \u001b[38;5;124m'\u001b[39m\u001b[38;5;124mFGF\u001b[39m\u001b[38;5;124m'\u001b[39m]\n",
      "\u001b[0;31mModuleNotFoundError\u001b[0m: No module named 'gym'"
     ]
    }
   ],
   "source": [
    "\"\"\"Automated context switching\"\"\"\n",
    "\n",
    "map_context_1 = [\n",
    "    'SFF',\n",
    "    'FFH',\n",
    "    'FGF']\n",
    "\n",
    "map_context_2 = [\n",
    "    'SFF',\n",
    "    'FFG',\n",
    "    'FHF']\n",
    "\n",
    "map_context_1 = np.array([[\"S\", \"F\", \"F\"], [\"F\", \"F\", \"H\"], [\"F\", \"G\", \"F\"]])\n",
    "map_context_2 = np.array([[\"S\", \"F\", \"F\"], [\"F\", \"F\", \"G\"], [\"F\", \"H\", \"F\"]])\n",
    "\n",
    "grid_width = 3\n",
    "grid_height = 3\n",
    "\n",
    "def plot_grid(grid_width, grid_height, position = 0):\n",
    "\n",
    "    grid = np.zeros((grid_width, grid_height))\n",
    "\n",
    "    # grid[1,2] = 1\n",
    "    # grid[2,1] = -1\n",
    "\n",
    "    if position == 0:\n",
    "        grid[0,0] += 2\n",
    "    elif position == 1:\n",
    "        grid[0,1] += 2\n",
    "    elif position == 2:\n",
    "        grid[0,2] += 2\n",
    "    elif position == 3:\n",
    "        grid[1,0] += 2\n",
    "    elif position == 4:\n",
    "        grid[1,1] += 2\n",
    "    elif position == 5:\n",
    "        grid[1,2] += 2\n",
    "    elif position == 6:\n",
    "        grid[2,0] += 2\n",
    "    elif position == 7:\n",
    "        grid[2,1] += 2\n",
    "    elif position == 8:\n",
    "        grid[2,2] += 2\n",
    "    \n",
    "    \n",
    "\n",
    "    # Plotting the array with each grid labeled with integers, indexed at 0 (without the colorbar)\n",
    "    fig, ax = plt.subplots(figsize = (2,2))\n",
    "    cax = ax.matshow(grid, cmap='viridis')\n",
    "\n",
    "    # Labeling each cell with the corresponding integer, adjusted for zero-indexing\n",
    "    for (i, j), val in np.ndenumerate(map_context_1):\n",
    "        ax.text(j, i, str(val ), ha='center', va='center', color='white')\n",
    "    plt.show()\n",
    "\n",
    "plot_grid(grid_width, grid_height)"
   ]
  },
  {
   "cell_type": "code",
   "execution_count": null,
   "metadata": {},
   "outputs": [
    {
     "name": "stdout",
     "output_type": "stream",
     "text": [
      "grid_location_states: [(0, 0), (0, 1), (0, 2), (1, 0), (1, 1), (1, 2), (2, 0), (2, 1), (2, 2)]\n",
      " Length of grid_location_states: 9\n"
     ]
    }
   ],
   "source": [
    "\"\"\" Create variables for the storing the dimensionalities of the hidden states and the observations \"\"\"\n",
    "import itertools\n",
    "\n",
    "#HIDDEN STATES\n",
    "\"\"\" Create  the grid locations in the form of a list of (Y, X) tuples -- HINT: use itertools \"\"\"\n",
    "grid_location_states = list(itertools.product(range(grid_width), range(grid_height))) #hidden state\n",
    "context_names = ['Goal-8', 'Goal-6'] #context 0 and context 1\n",
    "\n",
    "print(f\"grid_location_states: {grid_location_states}\")\n",
    "print(f\" Length of grid_location_states: {len(grid_location_states)}\")\n",
    "\n",
    "\"\"\" Define `num_states` and `num_factors` below \"\"\"\n",
    "num_states = [len(grid_location_states), len(context_names)] #[9,2]\n",
    "num_state_factors = len(num_states) #2 hidden state factors\n",
    "\n",
    "location_action_names = [\"UP\", \"RIGHT\", \"DOWN\", \"LEFT\"] #, \"STAY\"]\n",
    "\n",
    "context_action_names = [\"Do-nothing\"]\n",
    "\"\"\" Define `num_controls` below \"\"\"\n",
    "num_controls = [len(location_action_names), len(context_action_names)] #num of actions\n",
    "\n",
    "#OBSERVATIONS\n",
    "grid_location_obs = list(itertools.product(range(grid_width), range(grid_height)))\n",
    "score_obs = [\"positive\", \"negative\", \"neutral\"]\n",
    "\n",
    "\"\"\" Define `num_obs` and `num_modalities` below \"\"\"\n",
    "num_obs = [len(grid_location_obs), len(score_obs)] # [9, 3]\n",
    "num_modalities = len(num_obs) #2 observation modalities"
   ]
  },
  {
   "cell_type": "code",
   "execution_count": null,
   "metadata": {},
   "outputs": [],
   "source": [
    "\"\"\" Generate the A array \"\"\"\n",
    "A = utils.obj_array( num_modalities )\n",
    "\n",
    "A_location = np.zeros((len(grid_location_obs), len(grid_location_states), len(context_names))) #[observation modality, SF1, SF2]\n",
    "\n",
    "for i in range(len(context_names)):\n",
    "    A_location[:,:,i] = np.eye(len(grid_location_obs))\n",
    "\n",
    "A[0] = A_location\n",
    "\n",
    "\n",
    "A_score = np.zeros((len(score_obs), len(grid_location_states), len(context_names))) #[observation modality, SF1, SF2]\n",
    "\n",
    "#for first context (Pos, Neg, Neutral)\n",
    "A_score[:,:,0] = np.array([[0,0,1]] * 9).T #\n",
    "A_score[:,7,0] = [1,0,0]\n",
    "A_score[:,5,0] = [0,1,0]\n",
    "\n",
    "#for second context\n",
    "A_score[:,:,1] = np.array([[0,0,1]] * 9).T\n",
    "A_score[:,5,1] = [1,0,0]\n",
    "A_score[:,7,1] = [0,1,0]\n",
    "\n",
    "A[1] = A_score"
   ]
  },
  {
   "cell_type": "code",
   "execution_count": null,
   "metadata": {},
   "outputs": [],
   "source": [
    "#Do we need to hardcode absorbing latent states in G and H?\n",
    "\n",
    "#location_action_names = [ \"UP\", \"DOWN\", \"LEFT\", \"RIGHT\"] #actions we can take\n",
    "\n",
    "#Initialize overall B\n",
    "\n",
    "B = utils.obj_array(len(num_states))\n",
    "\n",
    "#B[0]: State Factor 1: Location\n",
    "#9x9x4: [len(location), len(location), len(actions)]\n",
    "#depends on movement\n",
    "\n",
    "B_grid_movement = np.zeros((len(grid_location_states), len(grid_location_states), len(location_action_names))) #[observation modality, SF1, SF2]\n",
    "#For UP action\n",
    "B_grid_movement[:,0,0] = [1,0,0,0,0,0,0,0,0]\n",
    "B_grid_movement[:,1,0] = [0,1,0,0,0,0,0,0,0]\n",
    "B_grid_movement[:,2,0] = [0,0,1,0,0,0,0,0,0]\n",
    "B_grid_movement[:,3,0] = [1,0,0,0,0,0,0,0,0]\n",
    "B_grid_movement[:,4,0] = [0,1,0,0,0,0,0,0,0]\n",
    "B_grid_movement[:,5,0] = [0,0,1,0,0,0,0,0,0]\n",
    "B_grid_movement[:,6,0] = [0,0,0,1,0,0,0,0,0]\n",
    "B_grid_movement[:,7,0] = [0,0,0,0,1,0,0,0,0]\n",
    "B_grid_movement[:,8,0] = [0,0,0,0,0,1,0,0,0]\n",
    "\n",
    "#For DOWN action\n",
    "\n",
    "B_grid_movement[:,0,2] = [0,0,0,1,0,0,0,0,0]\n",
    "B_grid_movement[:,1,2] = [0,0,0,0,1,0,0,0,0]\n",
    "B_grid_movement[:,2,2] = [0,0,0,0,0,1,0,0,0]\n",
    "B_grid_movement[:,3,2] = [0,0,0,0,0,0,1,0,0]\n",
    "B_grid_movement[:,4,2] = [0,0,0,0,0,0,0,1,0]\n",
    "B_grid_movement[:,5,2] = [0,0,0,0,0,0,0,0,1]\n",
    "B_grid_movement[:,6,2] = [0,0,0,0,0,0,1,0,0]\n",
    "B_grid_movement[:,7,2] = [0,0,0,0,0,0,0,1,0]\n",
    "B_grid_movement[:,8,2] = [0,0,0,0,0,0,0,0,1]\n",
    "\n",
    "#For LEFT action\n",
    "\n",
    "B_grid_movement[:,0,3] = [1,0,0,0,0,0,0,0,0]\n",
    "B_grid_movement[:,1,3] = [1,0,0,0,0,0,0,0,0]\n",
    "B_grid_movement[:,2,3] = [0,1,0,0,0,0,0,0,0]\n",
    "B_grid_movement[:,3,3] = [0,0,0,1,0,0,0,0,0]\n",
    "B_grid_movement[:,4,3] = [0,0,0,1,0,0,0,0,0]\n",
    "B_grid_movement[:,5,3] = [0,0,0,0,1,0,0,0,0]\n",
    "B_grid_movement[:,6,3] = [0,0,0,0,0,0,1,0,0]\n",
    "B_grid_movement[:,7,3] = [0,0,0,0,0,0,1,0,0]\n",
    "B_grid_movement[:,8,3] = [0,0,0,0,0,0,0,1,0]\n",
    "\n",
    "#For RIGHT action\n",
    "\n",
    "B_grid_movement[:,0,1] = [0,1,0,0,0,0,0,0,0]\n",
    "B_grid_movement[:,1,1] = [0,0,1,0,0,0,0,0,0]\n",
    "B_grid_movement[:,2,1] = [0,0,1,0,0,0,0,0,0]\n",
    "B_grid_movement[:,3,1] = [0,0,0,0,1,0,0,0,0]\n",
    "B_grid_movement[:,4,1] = [0,0,0,0,0,1,0,0,0]\n",
    "B_grid_movement[:,5,1] = [0,0,0,0,0,1,0,0,0]\n",
    "B_grid_movement[:,6,1] = [0,0,0,0,0,0,0,1,0]\n",
    "B_grid_movement[:,7,1] = [0,0,0,0,0,0,0,0,1]\n",
    "B_grid_movement[:,8,1] = [0,0,0,0,0,0,0,0,1]\n",
    "\n",
    "B[0] = B_grid_movement\n",
    "\n",
    "B_context = np.zeros((len(context_names), len(context_names), len(context_action_names)))\n",
    "\n",
    "B_context[:,:,0] = np.eye(len(context_names))\n",
    "\n",
    "B[1] = B_context\n"
   ]
  },
  {
   "cell_type": "code",
   "execution_count": null,
   "metadata": {},
   "outputs": [],
   "source": [
    "#Overall C\n",
    "C = utils.obj_array( num_modalities )\n",
    "\n",
    "#Preference over Observation Modality 1: Grid Locations [-4, 0, ... 0]\n",
    "C[0] = np.array([-4, 0, 0, 0, 0, 0, 0, 0, 0]) #we prefer to not stay in the starting location\n",
    "\n",
    "#Preference over Observation Modality 2: Scores [-4, 4, 0]\n",
    "C[1] = np.array([4, -4, 0]) #we prefer the goal state, we negatively prefer the hole state, and are neutral else"
   ]
  },
  {
   "cell_type": "code",
   "execution_count": null,
   "metadata": {},
   "outputs": [],
   "source": [
    "#Overall D\n",
    "D = utils.obj_array( num_state_factors )\n",
    "\n",
    "#Prior over State Factor 1: Grid Locations: [1,0,0,0,0,0,0,0,0]\n",
    "D[0] = np.array([1,0,0,0,0,0,0,0,0])\n",
    "\n",
    "#Prior over State Factor 2: Context: Uniform [.5 .5]\n",
    "D[1] = np.array([.5, .5])"
   ]
  },
  {
   "cell_type": "code",
   "execution_count": null,
   "metadata": {},
   "outputs": [
    {
     "data": {
      "text/plain": [
       "2"
      ]
     },
     "execution_count": 8,
     "metadata": {},
     "output_type": "execute_result"
    }
   ],
   "source": [
    "num_modalities"
   ]
  },
  {
   "cell_type": "code",
   "execution_count": null,
   "metadata": {},
   "outputs": [
    {
     "data": {
      "text/plain": [
       "[9, 2]"
      ]
     },
     "execution_count": 9,
     "metadata": {},
     "output_type": "execute_result"
    }
   ],
   "source": [
    "num_states"
   ]
  },
  {
   "cell_type": "code",
   "execution_count": null,
   "metadata": {},
   "outputs": [],
   "source": [
    "from pymdp.agent import Agent\n",
    "policy_len = 3\n",
    "\n",
    "zeta_single = 2.0 \n",
    "\n",
    "zeta_modalities = [1,2]\n",
    "\n",
    "zeta_modalities_and_states = utils.obj_array(num_modalities)\n",
    "zeta_modalities_and_states[0] = np.random.uniform(0,1,size = (num_states[0], num_states[1]))\n",
    "zeta_modalities_and_states[1] = np.random.uniform(0,1,size = (num_states[0], num_states[1]))\n",
    "\n",
    "agent_zeta_single = Agent(A = A, B = B, C = C, D = D, policy_len = policy_len, beta_zeta_prior= zeta_single) #policy length = number of actions in policies\n",
    "agent_zeta_m = Agent(A = A, B = B, C = C, D = D, policy_len = policy_len, beta_zeta_prior = zeta_modalities) #policy length = number of actions in policies\n",
    "agent_zeta_ms = Agent(A = A, B = B, C = C, D = D, policy_len = policy_len, beta_zeta_prior = zeta_modalities_and_states) #policy length = number of actions in policies\n",
    "\n",
    "#tell the agent we are only"
   ]
  },
  {
   "cell_type": "code",
   "execution_count": null,
   "metadata": {},
   "outputs": [
    {
     "data": {
      "text/plain": [
       "(9, 4)"
      ]
     },
     "execution_count": 11,
     "metadata": {},
     "output_type": "execute_result"
    }
   ],
   "source": [
    "B[0].shape[1:]\n"
   ]
  },
  {
   "cell_type": "code",
   "execution_count": null,
   "metadata": {},
   "outputs": [],
   "source": [
    "\n",
    "omega_single = 2.0\n",
    "\n",
    "omega_factors = [1,2]\n",
    "\n",
    "omega_modalities_and_states = utils.obj_array(2)\n",
    "omega_modalities_and_states[0] = np.random.uniform(0,1,size = B[0].shape[1:]\n",
    ")\n",
    "omega_modalities_and_states[1] = np.random.uniform(0,1,size = B[1].shape[1:]\n",
    ")\n",
    "\n",
    "\n",
    "agent_omega_single = Agent(A = A, B = B, C = C, D = D, policy_len = policy_len, beta_omega_prior= omega_single) #policy length = number of actions in policies\n",
    "agent_omega_f = Agent(A = A, B = B, C = C, D = D, policy_len = policy_len, beta_omega_prior = omega_factors) #policy length = number of actions in policies\n",
    "agent_omega_fs = Agent(A = A, B = B, C = C, D = D, policy_len = policy_len, beta_omega_prior = omega_modalities_and_states) #policy length = number of actions in policies\n",
    "\n"
   ]
  },
  {
   "cell_type": "code",
   "execution_count": null,
   "metadata": {},
   "outputs": [],
   "source": [
    "agent_zeta_omega = Agent(A = A, B = B, C = C, D = D, policy_len = policy_len, beta_omega_prior = omega_modalities_and_states, beta_zeta_prior = zeta_modalities_and_states) #policy length = number of actions in policies\n",
    "\n",
    "\n"
   ]
  },
  {
   "cell_type": "code",
   "execution_count": null,
   "metadata": {},
   "outputs": [],
   "source": [
    "#Auxiliary function that takes in agent and outputs score ... Environment step function will have two step\n",
    "def score_from_location(location):\n",
    "  if location == 7:\n",
    "    score = 0\n",
    "\n",
    "  elif location == 5:\n",
    "    score = 1\n",
    "\n",
    "  else:\n",
    "    score = 2\n",
    "\n",
    "  return score"
   ]
  },
  {
   "cell_type": "markdown",
   "metadata": {},
   "source": []
  },
  {
   "cell_type": "code",
   "execution_count": null,
   "metadata": {},
   "outputs": [
    {
     "name": "stdout",
     "output_type": "stream",
     "text": [
      "TIMESTEP: 0\n",
      "next_action: DOWN\n",
      "location_observation: 3\n",
      "score_observation: 2\n"
     ]
    },
    {
     "data": {
      "image/png": "[encoded data removed]",
      "text/plain": [
       "<Figure size 200x200 with 1 Axes>"
      ]
     },
     "metadata": {},
     "output_type": "display_data"
    },
    {
     "name": "stdout",
     "output_type": "stream",
     "text": [
      "TIMESTEP: 1\n",
      "next_action: RIGHT\n",
      "location_observation: 4\n",
      "score_observation: 2\n"
     ]
    },
    {
     "data": {
      "image/png": "[encoded data removed]",
      "text/plain": [
       "<Figure size 200x200 with 1 Axes>"
      ]
     },
     "metadata": {},
     "output_type": "display_data"
    },
    {
     "name": "stdout",
     "output_type": "stream",
     "text": [
      "Omega: [array([[1.04641062, 1.12407966, 1.90722197, 2.87954153],\n",
      "        [1.98093409, 2.01459375, 0.16364767, 2.7383709 ],\n",
      "        [0.01734636, 0.47216454, 2.36763312, 2.7135207 ],\n",
      "        [0.25694374, 2.17180762, 1.48722221, 0.81612469],\n",
      "        [1.64744803, 0.69815399, 2.81695806, 0.6666198 ],\n",
      "        [2.13072639, 1.59612866, 2.31785591, 0.88172215],\n",
      "        [2.38551197, 2.52172989, 1.1225697 , 1.79496443],\n",
      "        [0.71075962, 2.36616351, 0.79545236, 0.22311776],\n",
      "        [2.61872878, 2.38711889, 0.25501781, 1.07010261]])\n",
      " array([[0.08223541],\n",
      "        [2.20702877]])]\n",
      "Zeta: [array([[3.41359786e-01, 1.11224782e-01],\n",
      "        [2.99868762e-01, 8.96793769e-01],\n",
      "        [9.23566776e-01, 1.00666739e-02],\n",
      "        [7.94824809e-01, 6.93664347e-01],\n",
      "        [9.88848939e-01, 2.54569923e-01],\n",
      "        [9.69105182e-01, 4.96595443e-04],\n",
      "        [7.13237161e-01, 6.71904404e-01],\n",
      "        [7.91527989e-01, 8.75200950e-01],\n",
      "        [9.15040968e-01, 5.98498362e-01]])\n",
      " array([[0.93850486, 0.99224325],\n",
      "        [0.076443  , 0.50077792],\n",
      "        [0.42774012, 0.7049981 ],\n",
      "        [0.94670943, 0.52238374],\n",
      "        [0.68314501, 0.81660161],\n",
      "        [0.60563103, 0.96047047],\n",
      "        [0.94665997, 0.10047849],\n",
      "        [0.2526821 , 0.66787133],\n",
      "        [0.21677636, 0.21817313]])]\n",
      "Gamma: 637.8601771670178\n",
      "TIMESTEP: 2\n",
      "next_action: DOWN\n",
      "location_observation: 7\n",
      "score_observation: 0\n"
     ]
    },
    {
     "data": {
      "image/png": "[encoded data removed]",
      "text/plain": [
       "<Figure size 200x200 with 1 Axes>"
      ]
     },
     "metadata": {},
     "output_type": "display_data"
    },
    {
     "name": "stdout",
     "output_type": "stream",
     "text": [
      "Omega: [array([[1.07885947, 1.15652851, 1.93967082, 2.91199038],\n",
      "        [2.01338295, 2.04704261, 0.19609653, 2.77081976],\n",
      "        [0.04979523, 0.50461341, 2.40008199, 2.74596957],\n",
      "        [0.2893926 , 2.20425648, 1.51967107, 0.84857355],\n",
      "        [1.6798969 , 0.73060286, 2.84940693, 0.69906867],\n",
      "        [2.16317527, 1.62857754, 2.35030479, 0.91417103],\n",
      "        [2.385512  , 2.52172991, 1.12256972, 1.79496446],\n",
      "        [0.74320855, 2.39861244, 0.82790129, 0.25556669],\n",
      "        [2.65117772, 2.41956783, 0.28746675, 1.10255155]])\n",
      " array([[0.05274298],\n",
      "        [2.44147536]])]\n",
      "Zeta: [array([[3.41359277e-01, 1.11224272e-01],\n",
      "        [2.99868252e-01, 8.96793330e-01],\n",
      "        [9.23566397e-01, 1.00661645e-02],\n",
      "        [7.94824300e-01, 6.93663837e-01],\n",
      "        [9.88848669e-01, 2.54569414e-01],\n",
      "        [9.69104884e-01, 4.96086046e-04],\n",
      "        [7.13236651e-01, 6.71903894e-01],\n",
      "        [7.91527479e-01, 8.75200458e-01],\n",
      "        [9.15040571e-01, 5.98497853e-01]])\n",
      " array([[0.93872142, 0.99242653],\n",
      "        [0.07715958, 0.50149449],\n",
      "        [0.42845669, 0.70550825],\n",
      "        [0.94692042, 0.52310031],\n",
      "        [0.68370552, 0.81693019],\n",
      "        [0.60634738, 0.96067253],\n",
      "        [0.946871  , 0.10119506],\n",
      "        [0.25339867, 0.668471  ],\n",
      "        [0.21749293, 0.2188897 ]])]\n",
      "Gamma: 1136.097228097251\n",
      "TIMESTEP: 3\n",
      "next_action: DOWN\n",
      "location_observation: 7\n",
      "score_observation: 0\n"
     ]
    },
    {
     "data": {
      "image/png": "[encoded data removed]",
      "text/plain": [
       "<Figure size 200x200 with 1 Axes>"
      ]
     },
     "metadata": {},
     "output_type": "display_data"
    },
    {
     "name": "stdout",
     "output_type": "stream",
     "text": [
      "Omega: [array([[1.03928994, 1.11695898, 1.9001013 , 2.87242085],\n",
      "        [1.97381343, 2.00747309, 0.15652701, 2.73125023],\n",
      "        [0.0102257 , 0.46504389, 2.36051246, 2.70640004],\n",
      "        [0.241587  , 2.15645088, 1.47186548, 0.80076795],\n",
      "        [1.62671101, 0.67741697, 2.79622104, 0.64588277],\n",
      "        [2.12103986, 1.58644213, 2.30816938, 0.87203562],\n",
      "        [2.26961394, 2.40583186, 1.00667167, 1.6790664 ],\n",
      "        [0.55353415, 2.20893804, 0.63822689, 0.06589229],\n",
      "        [2.52407581, 2.29246592, 0.16036485, 0.97544964]])\n",
      " array([[ 0.68826525],\n",
      "        [38.77789531]])]\n",
      "Zeta: [array([[3.41359786e-01, 1.11224782e-01],\n",
      "        [2.99868762e-01, 8.96793769e-01],\n",
      "        [9.23566776e-01, 1.00666739e-02],\n",
      "        [7.94824809e-01, 6.93664347e-01],\n",
      "        [9.88848939e-01, 2.54569923e-01],\n",
      "        [9.69105182e-01, 4.96595443e-04],\n",
      "        [7.13237161e-01, 6.71904404e-01],\n",
      "        [7.91527989e-01, 8.75200950e-01],\n",
      "        [9.15040968e-01, 5.98498362e-01]])\n",
      " array([[0.93872142, 0.99242653],\n",
      "        [0.07715958, 0.50149449],\n",
      "        [0.42845669, 0.70550825],\n",
      "        [0.94692042, 0.52310031],\n",
      "        [0.68370552, 0.81693019],\n",
      "        [0.60634738, 0.96067253],\n",
      "        [0.946871  , 0.10119506],\n",
      "        [0.25339867, 0.668471  ],\n",
      "        [0.21749293, 0.2188897 ]])]\n",
      "Gamma: 1899.9960204072233\n",
      "TIMESTEP: 4\n",
      "next_action: DOWN\n",
      "location_observation: 7\n",
      "score_observation: 0\n"
     ]
    },
    {
     "data": {
      "image/png": "[encoded data removed]",
      "text/plain": [
       "<Figure size 200x200 with 1 Axes>"
      ]
     },
     "metadata": {},
     "output_type": "display_data"
    },
    {
     "name": "stdout",
     "output_type": "stream",
     "text": [
      "Omega: [array([[1.04641062, 1.12407966, 1.90722197, 2.87954153],\n",
      "        [1.98093411, 2.01459376, 0.16364769, 2.73837091],\n",
      "        [0.01734638, 0.47216457, 2.36763314, 2.71352072],\n",
      "        [0.25694375, 2.17180763, 1.48722223, 0.8161247 ],\n",
      "        [1.64744806, 0.69815402, 2.81695809, 0.66661982],\n",
      "        [2.13072642, 1.59612869, 2.31785594, 0.88172218],\n",
      "        [2.385512  , 2.52172991, 1.12256972, 1.79496446],\n",
      "        [0.7107597 , 2.36616359, 0.79545244, 0.22311784],\n",
      "        [2.61872887, 2.38711898, 0.25501791, 1.0701027 ]])\n",
      " array([[8.28373598e-02],\n",
      "        [1.12728862e+02]])]\n",
      "Zeta: [array([[3.41359786e-01, 1.11224782e-01],\n",
      "        [2.99868762e-01, 8.96793769e-01],\n",
      "        [9.23566776e-01, 1.00666739e-02],\n",
      "        [7.94824809e-01, 6.93664347e-01],\n",
      "        [9.88848939e-01, 2.54569923e-01],\n",
      "        [9.69105182e-01, 4.96595443e-04],\n",
      "        [7.13237161e-01, 6.71904404e-01],\n",
      "        [7.91527989e-01, 8.75200950e-01],\n",
      "        [9.15040968e-01, 5.98498362e-01]])\n",
      " array([[0.93872142, 0.99242653],\n",
      "        [0.07715958, 0.50149449],\n",
      "        [0.42845669, 0.70550825],\n",
      "        [0.94692042, 0.52310031],\n",
      "        [0.68370552, 0.81693019],\n",
      "        [0.60634738, 0.96067253],\n",
      "        [0.946871  , 0.10119506],\n",
      "        [0.25339867, 0.668471  ],\n",
      "        [0.21749293, 0.2188897 ]])]\n",
      "Gamma: 2563.443205043735\n",
      "TIMESTEP: 5\n",
      "next_action: DOWN\n",
      "location_observation: 7\n",
      "score_observation: 0\n"
     ]
    },
    {
     "data": {
      "image/png": "[encoded data removed]",
      "text/plain": [
       "<Figure size 200x200 with 1 Axes>"
      ]
     },
     "metadata": {},
     "output_type": "display_data"
    },
    {
     "name": "stdout",
     "output_type": "stream",
     "text": [
      "Omega: [array([[1.04641062, 1.12407966, 1.90722197, 2.87954153],\n",
      "        [1.98093411, 2.01459376, 0.16364769, 2.73837091],\n",
      "        [0.01734638, 0.47216457, 2.36763314, 2.71352072],\n",
      "        [0.25694375, 2.17180763, 1.48722223, 0.8161247 ],\n",
      "        [1.64744806, 0.69815402, 2.81695809, 0.66661982],\n",
      "        [2.13072642, 1.59612869, 2.31785594, 0.88172218],\n",
      "        [2.385512  , 2.52172991, 1.12256972, 1.79496446],\n",
      "        [0.7107597 , 2.36616359, 0.79545244, 0.22311784],\n",
      "        [2.61872887, 2.38711898, 0.25501791, 1.0701027 ]])\n",
      " array([[8.28373598e-02],\n",
      "        [1.12728862e+02]])]\n",
      "Zeta: [array([[3.41359786e-01, 1.11224782e-01],\n",
      "        [2.99868762e-01, 8.96793769e-01],\n",
      "        [9.23566776e-01, 1.00666739e-02],\n",
      "        [7.94824809e-01, 6.93664347e-01],\n",
      "        [9.88848939e-01, 2.54569923e-01],\n",
      "        [9.69105182e-01, 4.96595443e-04],\n",
      "        [7.13237161e-01, 6.71904404e-01],\n",
      "        [7.91527989e-01, 8.75200950e-01],\n",
      "        [9.15040968e-01, 5.98498362e-01]])\n",
      " array([[0.93872142, 0.99242653],\n",
      "        [0.07715958, 0.50149449],\n",
      "        [0.42845669, 0.70550825],\n",
      "        [0.94692042, 0.52310031],\n",
      "        [0.68370552, 0.81693019],\n",
      "        [0.60634738, 0.96067253],\n",
      "        [0.946871  , 0.10119506],\n",
      "        [0.25339867, 0.668471  ],\n",
      "        [0.21749293, 0.2188897 ]])]\n",
      "Gamma: 3134.764414932597\n",
      "TIMESTEP: 6\n",
      "next_action: DOWN\n",
      "location_observation: 7\n",
      "score_observation: 0\n"
     ]
    },
    {
     "data": {
      "image/png": "[encoded data removed]",
      "text/plain": [
       "<Figure size 200x200 with 1 Axes>"
      ]
     },
     "metadata": {},
     "output_type": "display_data"
    },
    {
     "name": "stdout",
     "output_type": "stream",
     "text": [
      "Omega: [array([[1.04641062, 1.12407966, 1.90722197, 2.87954153],\n",
      "        [1.98093411, 2.01459376, 0.16364769, 2.73837091],\n",
      "        [0.01734638, 0.47216457, 2.36763314, 2.71352072],\n",
      "        [0.25694375, 2.17180763, 1.48722223, 0.8161247 ],\n",
      "        [1.64744806, 0.69815402, 2.81695809, 0.66661982],\n",
      "        [2.13072642, 1.59612869, 2.31785594, 0.88172218],\n",
      "        [2.385512  , 2.52172991, 1.12256972, 1.79496446],\n",
      "        [0.7107597 , 2.36616359, 0.79545244, 0.22311784],\n",
      "        [2.61872887, 2.38711898, 0.25501791, 1.0701027 ]])\n",
      " array([[8.28373598e-02],\n",
      "        [1.12728862e+02]])]\n",
      "Zeta: [array([[3.41359786e-01, 1.11224782e-01],\n",
      "        [2.99868762e-01, 8.96793769e-01],\n",
      "        [9.23566776e-01, 1.00666739e-02],\n",
      "        [7.94824809e-01, 6.93664347e-01],\n",
      "        [9.88848939e-01, 2.54569923e-01],\n",
      "        [9.69105182e-01, 4.96595443e-04],\n",
      "        [7.13237161e-01, 6.71904404e-01],\n",
      "        [7.91527989e-01, 8.75200950e-01],\n",
      "        [9.15040968e-01, 5.98498362e-01]])\n",
      " array([[0.93872142, 0.99242653],\n",
      "        [0.07715958, 0.50149449],\n",
      "        [0.42845669, 0.70550825],\n",
      "        [0.94692042, 0.52310031],\n",
      "        [0.68370552, 0.81693019],\n",
      "        [0.60634738, 0.96067253],\n",
      "        [0.946871  , 0.10119506],\n",
      "        [0.25339867, 0.668471  ],\n",
      "        [0.21749293, 0.2188897 ]])]\n",
      "Gamma: 3708.571731025095\n",
      "TIMESTEP: 7\n",
      "next_action: DOWN\n",
      "location_observation: 7\n",
      "score_observation: 0\n"
     ]
    },
    {
     "data": {
      "image/png": "[encoded data removed]",
      "text/plain": [
       "<Figure size 200x200 with 1 Axes>"
      ]
     },
     "metadata": {},
     "output_type": "display_data"
    },
    {
     "name": "stdout",
     "output_type": "stream",
     "text": [
      "Omega: [array([[1.04641062, 1.12407966, 1.90722197, 2.87954153],\n",
      "        [1.98093411, 2.01459376, 0.16364769, 2.73837091],\n",
      "        [0.01734638, 0.47216457, 2.36763314, 2.71352072],\n",
      "        [0.25694375, 2.17180763, 1.48722223, 0.8161247 ],\n",
      "        [1.64744806, 0.69815402, 2.81695809, 0.66661982],\n",
      "        [2.13072642, 1.59612869, 2.31785594, 0.88172218],\n",
      "        [2.385512  , 2.52172991, 1.12256972, 1.79496446],\n",
      "        [0.7107597 , 2.36616359, 0.79545244, 0.22311784],\n",
      "        [2.61872887, 2.38711898, 0.25501791, 1.0701027 ]])\n",
      " array([[8.28373598e-02],\n",
      "        [1.12728862e+02]])]\n",
      "Zeta: [array([[3.41359786e-01, 1.11224782e-01],\n",
      "        [2.99868762e-01, 8.96793769e-01],\n",
      "        [9.23566776e-01, 1.00666739e-02],\n",
      "        [7.94824809e-01, 6.93664347e-01],\n",
      "        [9.88848939e-01, 2.54569923e-01],\n",
      "        [9.69105182e-01, 4.96595443e-04],\n",
      "        [7.13237161e-01, 6.71904404e-01],\n",
      "        [7.91527989e-01, 8.75200950e-01],\n",
      "        [9.15040968e-01, 5.98498362e-01]])\n",
      " array([[0.93872142, 0.99242653],\n",
      "        [0.07715958, 0.50149449],\n",
      "        [0.42845669, 0.70550825],\n",
      "        [0.94692042, 0.52310031],\n",
      "        [0.68370552, 0.81693019],\n",
      "        [0.60634738, 0.96067253],\n",
      "        [0.946871  , 0.10119506],\n",
      "        [0.25339867, 0.668471  ],\n",
      "        [0.21749293, 0.2188897 ]])]\n",
      "Gamma: 4282.848597019648\n",
      "TIMESTEP: 8\n",
      "next_action: DOWN\n",
      "location_observation: 7\n",
      "score_observation: 0\n"
     ]
    },
    {
     "data": {
      "image/png": "[encoded data removed]",
      "text/plain": [
       "<Figure size 200x200 with 1 Axes>"
      ]
     },
     "metadata": {},
     "output_type": "display_data"
    },
    {
     "name": "stdout",
     "output_type": "stream",
     "text": [
      "Omega: [array([[1.04641062, 1.12407966, 1.90722197, 2.87954153],\n",
      "        [1.98093411, 2.01459376, 0.16364769, 2.73837091],\n",
      "        [0.01734638, 0.47216457, 2.36763314, 2.71352072],\n",
      "        [0.25694375, 2.17180763, 1.48722223, 0.8161247 ],\n",
      "        [1.64744806, 0.69815402, 2.81695809, 0.66661982],\n",
      "        [2.13072642, 1.59612869, 2.31785594, 0.88172218],\n",
      "        [2.385512  , 2.52172991, 1.12256972, 1.79496446],\n",
      "        [0.7107597 , 2.36616359, 0.79545244, 0.22311784],\n",
      "        [2.61872887, 2.38711898, 0.25501791, 1.0701027 ]])\n",
      " array([[8.28373598e-02],\n",
      "        [1.12728862e+02]])]\n",
      "Zeta: [array([[3.41359786e-01, 1.11224782e-01],\n",
      "        [2.99868762e-01, 8.96793769e-01],\n",
      "        [9.23566776e-01, 1.00666739e-02],\n",
      "        [7.94824809e-01, 6.93664347e-01],\n",
      "        [9.88848939e-01, 2.54569923e-01],\n",
      "        [9.69105182e-01, 4.96595443e-04],\n",
      "        [7.13237161e-01, 6.71904404e-01],\n",
      "        [7.91527989e-01, 8.75200950e-01],\n",
      "        [9.15040968e-01, 5.98498362e-01]])\n",
      " array([[0.93872142, 0.99242653],\n",
      "        [0.07715958, 0.50149449],\n",
      "        [0.42845669, 0.70550825],\n",
      "        [0.94692042, 0.52310031],\n",
      "        [0.68370552, 0.81693019],\n",
      "        [0.60634738, 0.96067253],\n",
      "        [0.946871  , 0.10119506],\n",
      "        [0.25339867, 0.668471  ],\n",
      "        [0.21749293, 0.2188897 ]])]\n",
      "Gamma: 4857.288823058667\n",
      "TIMESTEP: 9\n",
      "next_action: DOWN\n",
      "location_observation: 7\n",
      "score_observation: 0\n"
     ]
    },
    {
     "data": {
      "image/png": "[encoded data removed]",
      "text/plain": [
       "<Figure size 200x200 with 1 Axes>"
      ]
     },
     "metadata": {},
     "output_type": "display_data"
    },
    {
     "name": "stdout",
     "output_type": "stream",
     "text": [
      "Omega: [array([[1.04641062, 1.12407966, 1.90722197, 2.87954153],\n",
      "        [1.98093411, 2.01459376, 0.16364769, 2.73837091],\n",
      "        [0.01734638, 0.47216457, 2.36763314, 2.71352072],\n",
      "        [0.25694375, 2.17180763, 1.48722223, 0.8161247 ],\n",
      "        [1.64744806, 0.69815402, 2.81695809, 0.66661982],\n",
      "        [2.13072642, 1.59612869, 2.31785594, 0.88172218],\n",
      "        [2.385512  , 2.52172991, 1.12256972, 1.79496446],\n",
      "        [0.7107597 , 2.36616359, 0.79545244, 0.22311784],\n",
      "        [2.61872887, 2.38711898, 0.25501791, 1.0701027 ]])\n",
      " array([[8.28373598e-02],\n",
      "        [1.12728862e+02]])]\n",
      "Zeta: [array([[3.41359786e-01, 1.11224782e-01],\n",
      "        [2.99868762e-01, 8.96793769e-01],\n",
      "        [9.23566776e-01, 1.00666739e-02],\n",
      "        [7.94824809e-01, 6.93664347e-01],\n",
      "        [9.88848939e-01, 2.54569923e-01],\n",
      "        [9.69105182e-01, 4.96595443e-04],\n",
      "        [7.13237161e-01, 6.71904404e-01],\n",
      "        [7.91527989e-01, 8.75200950e-01],\n",
      "        [9.15040968e-01, 5.98498362e-01]])\n",
      " array([[0.93872142, 0.99242653],\n",
      "        [0.07715958, 0.50149449],\n",
      "        [0.42845669, 0.70550825],\n",
      "        [0.94692042, 0.52310031],\n",
      "        [0.68370552, 0.81693019],\n",
      "        [0.60634738, 0.96067253],\n",
      "        [0.946871  , 0.10119506],\n",
      "        [0.25339867, 0.668471  ],\n",
      "        [0.21749293, 0.2188897 ]])]\n",
      "Gamma: 5431.950914236351\n"
     ]
    }
   ],
   "source": [
    "#make sure whatever comes out of env is [list of indices] over observations and pass this to agent.infer_states\n",
    "from pymdp.envs.grid_worlds import GridWorldEnv\n",
    "\n",
    "env = GridWorldEnv(shape = [3,3], init_state=0)\n",
    "\n",
    "T = 10\n",
    "\n",
    "\n",
    "#agent = agent_omega_fs\n",
    "agent = agent_zeta_omega\n",
    "\n",
    "\n",
    "initial_location_observation = 0\n",
    "initial_score_observation = score_from_location(initial_location_observation)\n",
    "observation = [0, 2]\n",
    "\n",
    "\n",
    "\n",
    "for t in range(T):\n",
    "    print(f\"TIMESTEP: {t}\")\n",
    "\n",
    "    qs = agent.infer_states(observation)\n",
    "\n",
    "    q_pi, G = agent.infer_policies()\n",
    "    next_action = agent.sample_action()\n",
    "    next_action = int(next_action[0])\n",
    "    print(f\"next_action: {location_action_names[next_action]}\")\n",
    "    location_observation = env.step(next_action)\n",
    "    print(f\"location_observation: {location_observation}\")\n",
    "    score_observation = score_from_location(location_observation)\n",
    "    print(f\"score_observation: {score_observation}\")\n",
    "    observation = [location_observation, score_observation]\n",
    "\n",
    "    \n",
    "    plot_grid(grid_width, grid_height, location_observation)\n",
    "\n",
    "    if t > 0:\n",
    "\n",
    "        agent.beta_omega, agent.beta_omega_prior = agent.update_omega()\n",
    "        print(f\"Omega: {agent.beta_omega}\")\n",
    "\n",
    "        agent.beta_zeta, agent.beta_zeta_prior = agent.update_zeta(observation)\n",
    "        print(f\"Zeta: {agent.beta_zeta}\")\n",
    "        agent.gamma = agent.update_gamma()\n",
    "\n",
    "        print(f\"Gamma: {agent.gamma}\")\n"
   ]
  },
  {
   "cell_type": "code",
   "execution_count": null,
   "metadata": {},
   "outputs": [
    {
     "data": {
      "text/plain": [
       "array([-14.54167755, -13.78274122, -12.9160894 , -13.01164456,\n",
       "       -19.86410277, -19.87161027, -19.86410317, -22.30062236,\n",
       "       -14.54474054, -13.78384043, -12.91396635, -13.01130377,\n",
       "       -22.30062236, -15.8641029 , -15.86444378, -18.30062236,\n",
       "       -13.9402432 , -12.89944618, -11.78491695, -11.91819675,\n",
       "       -12.1343841 , -11.63487643, -11.04288785, -11.09132171,\n",
       "       -11.12206495, -11.01116396,  -9.75338765,  -9.82022391,\n",
       "       -12.24374166, -11.05744712,  -9.82430681, -10.84920907,\n",
       "       -11.86409733, -18.30062236, -11.86410071, -14.30062236,\n",
       "       -10.54472838,  -9.7838378 ,  -8.91398112,  -9.01125266,\n",
       "       -10.30062236,  -7.8641032 ,  -6.30062237, -10.30062237,\n",
       "       -11.86410322, -11.86408206, -14.27386339, -11.86409679,\n",
       "       -14.544781  , -13.78383853, -12.91397433, -13.01131854,\n",
       "       -14.54472011, -13.78382028, -12.91393343, -13.01128759,\n",
       "       -15.83979659, -15.83794843, -18.22412062, -15.83549005,\n",
       "       -14.54376249, -13.78348759, -12.91464046, -13.01140918])"
      ]
     },
     "execution_count": 16,
     "metadata": {},
     "output_type": "execute_result"
    }
   ],
   "source": [
    "agent.G"
   ]
  },
  {
   "cell_type": "code",
   "execution_count": null,
   "metadata": {},
   "outputs": [
    {
     "data": {
      "text/plain": [
       "array([array([[1.04641062, 1.12407966, 1.90722197, 2.87954153],\n",
       "              [1.98093411, 2.01459376, 0.16364769, 2.73837091],\n",
       "              [0.01734638, 0.47216457, 2.36763314, 2.71352072],\n",
       "              [0.25694375, 2.17180763, 1.48722223, 0.8161247 ],\n",
       "              [1.64744806, 0.69815402, 2.81695809, 0.66661982],\n",
       "              [2.13072642, 1.59612869, 2.31785594, 0.88172218],\n",
       "              [2.385512  , 2.52172991, 1.12256972, 1.79496446],\n",
       "              [0.7107597 , 2.36616359, 0.79545244, 0.22311784],\n",
       "              [2.61872887, 2.38711898, 0.25501791, 1.0701027 ]]),\n",
       "       array([[8.28373598e-02],\n",
       "              [1.12728862e+02]])], dtype=object)"
      ]
     },
     "execution_count": 17,
     "metadata": {},
     "output_type": "execute_result"
    }
   ],
   "source": [
    "agent.beta_omega"
   ]
  },
  {
   "cell_type": "code",
   "execution_count": null,
   "metadata": {},
   "outputs": [
    {
     "data": {
      "text/plain": [
       "array([array([[0.34880354, 0.37469322, 0.63574066, 0.95984718],\n",
       "              [0.66031137, 0.67153125, 0.05454923, 0.9127903 ],\n",
       "              [0.00578213, 0.15738819, 0.78921105, 0.90450691],\n",
       "              [0.08564792, 0.72393588, 0.49574074, 0.27204157],\n",
       "              [0.54914935, 0.23271801, 0.93898603, 0.22220661],\n",
       "              [0.71024214, 0.5320429 , 0.77261865, 0.29390739],\n",
       "              [0.79517067, 0.84057664, 0.37418991, 0.59832149],\n",
       "              [0.2369199 , 0.7887212 , 0.26515081, 0.07437261],\n",
       "              [0.87290962, 0.79570633, 0.08500597, 0.3567009 ]]),\n",
       "       array([[0.02761245],\n",
       "              [0.734926  ]])], dtype=object)"
      ]
     },
     "execution_count": 18,
     "metadata": {},
     "output_type": "execute_result"
    }
   ],
   "source": [
    "agent.beta_omega_prior"
   ]
  },
  {
   "cell_type": "code",
   "execution_count": null,
   "metadata": {},
   "outputs": [
    {
     "data": {
      "text/plain": [
       "array([[0.34880354, 0.37469322, 0.63574066, 0.95984718],\n",
       "       [0.66031137, 0.67153125, 0.05454923, 0.9127903 ],\n",
       "       [0.00578213, 0.15738819, 0.78921105, 0.90450691],\n",
       "       [0.08564792, 0.72393588, 0.49574074, 0.27204157],\n",
       "       [0.54914935, 0.23271801, 0.93898603, 0.22220661],\n",
       "       [0.71024214, 0.5320429 , 0.77261865, 0.29390739],\n",
       "       [0.79517067, 0.84057664, 0.37418991, 0.59832149],\n",
       "       [0.2369199 , 0.7887212 , 0.26515081, 0.07437261],\n",
       "       [0.87290962, 0.79570633, 0.08500597, 0.3567009 ]])"
      ]
     },
     "execution_count": 19,
     "metadata": {},
     "output_type": "execute_result"
    }
   ],
   "source": [
    "agent.beta_omega_prior[0]"
   ]
  },
  {
   "cell_type": "code",
   "execution_count": null,
   "metadata": {},
   "outputs": [
    {
     "data": {
      "text/plain": [
       "array([0., 0., 0., 0., 0., 0., 0., 0., 0., 0., 0., 0., 0., 0., 0., 0., 0.,\n",
       "       0., 0., 0., 0., 0., 0., 0., 0., 0., 0., 0., 0., 0., 0., 0., 0., 0.,\n",
       "       0., 0., 0., 0., 0., 0., 0., 0., 1., 0., 0., 0., 0., 0., 0., 0., 0.,\n",
       "       0., 0., 0., 0., 0., 0., 0., 0., 0., 0., 0., 0., 0.])"
      ]
     },
     "execution_count": 20,
     "metadata": {},
     "output_type": "execute_result"
    }
   ],
   "source": [
    "agent.q_pi"
   ]
  },
  {
   "cell_type": "code",
   "execution_count": null,
   "metadata": {},
   "outputs": [],
   "source": []
  },
  {
   "cell_type": "code",
   "execution_count": null,
   "metadata": {},
   "outputs": [],
   "source": []
  },
  {
   "cell_type": "code",
   "execution_count": null,
   "metadata": {},
   "outputs": [],
   "source": []
  }
 ],
 "metadata": {
  "kernelspec": {
   "display_name": "Python 3",
   "language": "python",
   "name": "python3"
  },
  "language_info": {
   "codemirror_mode": {
    "name": "ipython",
    "version": 3
   },
   "file_extension": ".py",
   "mimetype": "text/x-python",
   "name": "python",
   "nbconvert_exporter": "python",
   "pygments_lexer": "ipython3",
   "version": "3.10.13"
  }
 },
 "nbformat": 4,
 "nbformat_minor": 2
}
