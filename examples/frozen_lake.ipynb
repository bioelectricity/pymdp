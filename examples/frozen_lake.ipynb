{
 "cells": [
  {
   "cell_type": "code",
   "execution_count": 1,
   "metadata": {},
   "outputs": [],
   "source": [
    "import os \n",
    "import sys \n",
    "import pathlib \n",
    "path = pathlib.Path(os.getcwd())\n",
    "module_path = str(path.parent) + '/'\n",
    "sys.path.append(module_path)\n",
    "import numpy as np\n",
    "import matplotlib.pyplot as plt\n",
    "import seaborn as sns\n",
    "from pymdp import utils\n"
   ]
  },
  {
   "cell_type": "code",
   "execution_count": 2,
   "metadata": {},
   "outputs": [
    {
     "data": {
      "image/png": "[encoded data removed]",
      "text/plain": [
       "<Figure size 200x200 with 1 Axes>"
      ]
     },
     "metadata": {},
     "output_type": "display_data"
    }
   ],
   "source": [
    "import gym\n",
    "\n",
    "\"\"\"Automated context switching\"\"\"\n",
    "\n",
    "map_context_1 = [\n",
    "    'SFF',\n",
    "    'FFH',\n",
    "    'FGF']\n",
    "\n",
    "map_context_2 = [\n",
    "    'SFF',\n",
    "    'FFG',\n",
    "    'FHF']\n",
    "\n",
    "map_context_1 = np.array([[\"S\", \"F\", \"F\"], [\"F\", \"F\", \"H\"], [\"F\", \"G\", \"F\"]])\n",
    "map_context_2 = np.array([[\"S\", \"F\", \"F\"], [\"F\", \"F\", \"G\"], [\"F\", \"H\", \"F\"]])\n",
    "\n",
    "grid_width = 3\n",
    "grid_height = 3\n",
    "\n",
    "def plot_grid(grid_width, grid_height, position = 0):\n",
    "\n",
    "    grid = np.zeros((grid_width, grid_height))\n",
    "\n",
    "    # grid[1,2] = 1\n",
    "    # grid[2,1] = -1\n",
    "\n",
    "    if position == 0:\n",
    "        grid[0,0] += 2\n",
    "    elif position == 1:\n",
    "        grid[0,1] += 2\n",
    "    elif position == 2:\n",
    "        grid[0,2] += 2\n",
    "    elif position == 3:\n",
    "        grid[1,0] += 2\n",
    "    elif position == 4:\n",
    "        grid[1,1] += 2\n",
    "    elif position == 5:\n",
    "        grid[1,2] += 2\n",
    "    elif position == 6:\n",
    "        grid[2,0] += 2\n",
    "    elif position == 7:\n",
    "        grid[2,1] += 2\n",
    "    elif position == 8:\n",
    "        grid[2,2] += 2\n",
    "    \n",
    "    \n",
    "\n",
    "    # Plotting the array with each grid labeled with integers, indexed at 0 (without the colorbar)\n",
    "    fig, ax = plt.subplots(figsize = (2,2))\n",
    "    cax = ax.matshow(grid, cmap='viridis')\n",
    "\n",
    "    # Labeling each cell with the corresponding integer, adjusted for zero-indexing\n",
    "    for (i, j), val in np.ndenumerate(map_context_1):\n",
    "        ax.text(j, i, str(val ), ha='center', va='center', color='white')\n",
    "    plt.show()\n",
    "\n",
    "plot_grid(grid_width, grid_height)"
   ]
  },
  {
   "cell_type": "code",
   "execution_count": 3,
   "metadata": {},
   "outputs": [
    {
     "name": "stdout",
     "output_type": "stream",
     "text": [
      "grid_location_states: [(0, 0), (0, 1), (0, 2), (1, 0), (1, 1), (1, 2), (2, 0), (2, 1), (2, 2)]\n",
      " Length of grid_location_states: 9\n"
     ]
    }
   ],
   "source": [
    "\"\"\" Create variables for the storing the dimensionalities of the hidden states and the observations \"\"\"\n",
    "import itertools\n",
    "\n",
    "#HIDDEN STATES\n",
    "\"\"\" Create  the grid locations in the form of a list of (Y, X) tuples -- HINT: use itertools \"\"\"\n",
    "grid_location_states = list(itertools.product(range(grid_width), range(grid_height))) #hidden state\n",
    "context_names = ['Goal-8', 'Goal-6'] #context 0 and context 1\n",
    "\n",
    "print(f\"grid_location_states: {grid_location_states}\")\n",
    "print(f\" Length of grid_location_states: {len(grid_location_states)}\")\n",
    "\n",
    "\"\"\" Define `num_states` and `num_factors` below \"\"\"\n",
    "num_states = [len(grid_location_states), len(context_names)] #[9,2]\n",
    "num_state_factors = len(num_states) #2 hidden state factors\n",
    "\n",
    "location_action_names = [\"UP\", \"RIGHT\", \"DOWN\", \"LEFT\"] #, \"STAY\"]\n",
    "\n",
    "context_action_names = [\"Do-nothing\"]\n",
    "\"\"\" Define `num_controls` below \"\"\"\n",
    "num_controls = [len(location_action_names), len(context_action_names)] #num of actions\n",
    "\n",
    "#OBSERVATIONS\n",
    "grid_location_obs = list(itertools.product(range(grid_width), range(grid_height)))\n",
    "score_obs = [\"positive\", \"negative\", \"neutral\"]\n",
    "\n",
    "\"\"\" Define `num_obs` and `num_modalities` below \"\"\"\n",
    "num_obs = [len(grid_location_obs), len(score_obs)] # [9, 3]\n",
    "num_modalities = len(num_obs) #2 observation modalities"
   ]
  },
  {
   "cell_type": "code",
   "execution_count": 4,
   "metadata": {},
   "outputs": [],
   "source": [
    "\"\"\" Generate the A array \"\"\"\n",
    "A = utils.obj_array( num_modalities )\n",
    "\n",
    "A_location = np.zeros((len(grid_location_obs), len(grid_location_states), len(context_names))) #[observation modality, SF1, SF2]\n",
    "\n",
    "for i in range(len(context_names)):\n",
    "    A_location[:,:,i] = np.eye(len(grid_location_obs))\n",
    "\n",
    "A[0] = A_location\n",
    "\n",
    "\n",
    "A_score = np.zeros((len(score_obs), len(grid_location_states), len(context_names))) #[observation modality, SF1, SF2]\n",
    "\n",
    "#for first context (Pos, Neg, Neutral)\n",
    "A_score[:,:,0] = np.array([[0,0,1]] * 9).T #\n",
    "A_score[:,7,0] = [1,0,0]\n",
    "A_score[:,5,0] = [0,1,0]\n",
    "\n",
    "#for second context\n",
    "A_score[:,:,1] = np.array([[0,0,1]] * 9).T\n",
    "A_score[:,5,1] = [1,0,0]\n",
    "A_score[:,7,1] = [0,1,0]\n",
    "\n",
    "A[1] = A_score"
   ]
  },
  {
   "cell_type": "code",
   "execution_count": 5,
   "metadata": {},
   "outputs": [],
   "source": [
    "#Do we need to hardcode absorbing latent states in G and H?\n",
    "\n",
    "#location_action_names = [ \"UP\", \"DOWN\", \"LEFT\", \"RIGHT\"] #actions we can take\n",
    "\n",
    "#Initialize overall B\n",
    "\n",
    "B = utils.obj_array(len(num_states))\n",
    "\n",
    "#B[0]: State Factor 1: Location\n",
    "#9x9x4: [len(location), len(location), len(actions)]\n",
    "#depends on movement\n",
    "\n",
    "B_grid_movement = np.zeros((len(grid_location_states), len(grid_location_states), len(location_action_names))) #[observation modality, SF1, SF2]\n",
    "#For UP action\n",
    "B_grid_movement[:,0,0] = [1,0,0,0,0,0,0,0,0]\n",
    "B_grid_movement[:,1,0] = [0,1,0,0,0,0,0,0,0]\n",
    "B_grid_movement[:,2,0] = [0,0,1,0,0,0,0,0,0]\n",
    "B_grid_movement[:,3,0] = [1,0,0,0,0,0,0,0,0]\n",
    "B_grid_movement[:,4,0] = [0,1,0,0,0,0,0,0,0]\n",
    "B_grid_movement[:,5,0] = [0,0,1,0,0,0,0,0,0]\n",
    "B_grid_movement[:,6,0] = [0,0,0,1,0,0,0,0,0]\n",
    "B_grid_movement[:,7,0] = [0,0,0,0,1,0,0,0,0]\n",
    "B_grid_movement[:,8,0] = [0,0,0,0,0,1,0,0,0]\n",
    "\n",
    "#For DOWN action\n",
    "\n",
    "B_grid_movement[:,0,2] = [0,0,0,1,0,0,0,0,0]\n",
    "B_grid_movement[:,1,2] = [0,0,0,0,1,0,0,0,0]\n",
    "B_grid_movement[:,2,2] = [0,0,0,0,0,1,0,0,0]\n",
    "B_grid_movement[:,3,2] = [0,0,0,0,0,0,1,0,0]\n",
    "B_grid_movement[:,4,2] = [0,0,0,0,0,0,0,1,0]\n",
    "B_grid_movement[:,5,2] = [0,0,0,0,0,0,0,0,1]\n",
    "B_grid_movement[:,6,2] = [0,0,0,0,0,0,1,0,0]\n",
    "B_grid_movement[:,7,2] = [0,0,0,0,0,0,0,1,0]\n",
    "B_grid_movement[:,8,2] = [0,0,0,0,0,0,0,0,1]\n",
    "\n",
    "#For LEFT action\n",
    "\n",
    "B_grid_movement[:,0,3] = [1,0,0,0,0,0,0,0,0]\n",
    "B_grid_movement[:,1,3] = [1,0,0,0,0,0,0,0,0]\n",
    "B_grid_movement[:,2,3] = [0,1,0,0,0,0,0,0,0]\n",
    "B_grid_movement[:,3,3] = [0,0,0,1,0,0,0,0,0]\n",
    "B_grid_movement[:,4,3] = [0,0,0,1,0,0,0,0,0]\n",
    "B_grid_movement[:,5,3] = [0,0,0,0,1,0,0,0,0]\n",
    "B_grid_movement[:,6,3] = [0,0,0,0,0,0,1,0,0]\n",
    "B_grid_movement[:,7,3] = [0,0,0,0,0,0,1,0,0]\n",
    "B_grid_movement[:,8,3] = [0,0,0,0,0,0,0,1,0]\n",
    "\n",
    "#For RIGHT action\n",
    "\n",
    "B_grid_movement[:,0,1] = [0,1,0,0,0,0,0,0,0]\n",
    "B_grid_movement[:,1,1] = [0,0,1,0,0,0,0,0,0]\n",
    "B_grid_movement[:,2,1] = [0,0,1,0,0,0,0,0,0]\n",
    "B_grid_movement[:,3,1] = [0,0,0,0,1,0,0,0,0]\n",
    "B_grid_movement[:,4,1] = [0,0,0,0,0,1,0,0,0]\n",
    "B_grid_movement[:,5,1] = [0,0,0,0,0,1,0,0,0]\n",
    "B_grid_movement[:,6,1] = [0,0,0,0,0,0,0,1,0]\n",
    "B_grid_movement[:,7,1] = [0,0,0,0,0,0,0,0,1]\n",
    "B_grid_movement[:,8,1] = [0,0,0,0,0,0,0,0,1]\n",
    "\n",
    "B[0] = B_grid_movement\n",
    "\n",
    "B_context = np.zeros((len(context_names), len(context_names), len(context_action_names)))\n",
    "\n",
    "B_context[:,:,0] = np.eye(len(context_names))\n",
    "\n",
    "B[1] = B_context\n"
   ]
  },
  {
   "cell_type": "code",
   "execution_count": 6,
   "metadata": {},
   "outputs": [],
   "source": [
    "#Overall C\n",
    "C = utils.obj_array( num_modalities )\n",
    "\n",
    "#Preference over Observation Modality 1: Grid Locations [-4, 0, ... 0]\n",
    "C[0] = np.array([-4, 0, 0, 0, 0, 0, 0, 0, 0]) #we prefer to not stay in the starting location\n",
    "\n",
    "#Preference over Observation Modality 2: Scores [-4, 4, 0]\n",
    "C[1] = np.array([4, -4, 0]) #we prefer the goal state, we negatively prefer the hole state, and are neutral else"
   ]
  },
  {
   "cell_type": "code",
   "execution_count": 7,
   "metadata": {},
   "outputs": [],
   "source": [
    "#Overall D\n",
    "D = utils.obj_array( num_state_factors )\n",
    "\n",
    "#Prior over State Factor 1: Grid Locations: [1,0,0,0,0,0,0,0,0]\n",
    "D[0] = np.array([1,0,0,0,0,0,0,0,0])\n",
    "\n",
    "#Prior over State Factor 2: Context: Uniform [.5 .5]\n",
    "D[1] = np.array([.5, .5])"
   ]
  },
  {
   "cell_type": "code",
   "execution_count": 8,
   "metadata": {},
   "outputs": [
    {
     "data": {
      "text/plain": [
       "2"
      ]
     },
     "execution_count": 8,
     "metadata": {},
     "output_type": "execute_result"
    }
   ],
   "source": [
    "num_modalities"
   ]
  },
  {
   "cell_type": "code",
   "execution_count": 9,
   "metadata": {},
   "outputs": [
    {
     "data": {
      "text/plain": [
       "[9, 2]"
      ]
     },
     "execution_count": 9,
     "metadata": {},
     "output_type": "execute_result"
    }
   ],
   "source": [
    "num_states"
   ]
  },
  {
   "cell_type": "code",
   "execution_count": 10,
   "metadata": {},
   "outputs": [],
   "source": [
    "from pymdp.agent import Agent\n",
    "policy_len = 3\n",
    "\n",
    "zeta_single = 2.0 \n",
    "\n",
    "zeta_modalities = [1,2]\n",
    "\n",
    "zeta_modalities_and_states = utils.obj_array(num_modalities)\n",
    "zeta_modalities_and_states[0] = np.random.uniform(0,1,size = (num_states[0], num_states[1]))\n",
    "zeta_modalities_and_states[1] = np.random.uniform(0,1,size = (num_states[0], num_states[1]))\n",
    "\n",
    "agent_zeta_single = Agent(A = A, B = B, C = C, D = D, policy_len = policy_len, beta_zeta_prior= zeta_single) #policy length = number of actions in policies\n",
    "agent_zeta_m = Agent(A = A, B = B, C = C, D = D, policy_len = policy_len, beta_zeta_prior = zeta_modalities) #policy length = number of actions in policies\n",
    "agent_zeta_ms = Agent(A = A, B = B, C = C, D = D, policy_len = policy_len, beta_zeta_prior = zeta_modalities_and_states) #policy length = number of actions in policies\n",
    "\n",
    "#tell the agent we are only"
   ]
  },
  {
   "cell_type": "code",
   "execution_count": 11,
   "metadata": {},
   "outputs": [
    {
     "data": {
      "text/plain": [
       "(9, 4)"
      ]
     },
     "execution_count": 11,
     "metadata": {},
     "output_type": "execute_result"
    }
   ],
   "source": [
    "B[0].shape[1:]\n"
   ]
  },
  {
   "cell_type": "code",
   "execution_count": 12,
   "metadata": {},
   "outputs": [],
   "source": [
    "\n",
    "omega_single = 2.0\n",
    "\n",
    "omega_factors = [1,2]\n",
    "\n",
    "omega_modalities_and_states = utils.obj_array(2)\n",
    "omega_modalities_and_states[0] = np.random.uniform(0,1,size = B[0].shape[1:]\n",
    ")\n",
    "omega_modalities_and_states[1] = np.random.uniform(0,1,size = B[1].shape[1:]\n",
    ")\n",
    "\n",
    "\n",
    "agent_omega_single = Agent(A = A, B = B, C = C, D = D, policy_len = policy_len, beta_omega_prior= omega_single) #policy length = number of actions in policies\n",
    "agent_omega_f = Agent(A = A, B = B, C = C, D = D, policy_len = policy_len, beta_omega_prior = omega_factors) #policy length = number of actions in policies\n",
    "agent_omega_fs = Agent(A = A, B = B, C = C, D = D, policy_len = policy_len, beta_omega_prior = omega_modalities_and_states) #policy length = number of actions in policies\n",
    "\n"
   ]
  },
  {
   "cell_type": "code",
   "execution_count": 13,
   "metadata": {},
   "outputs": [],
   "source": [
    "agent_zeta_omega = Agent(A = A, B = B, C = C, D = D, policy_len = policy_len, beta_omega_prior = omega_modalities_and_states, beta_zeta_prior = zeta_modalities_and_states) #policy length = number of actions in policies\n",
    "\n",
    "\n"
   ]
  },
  {
   "cell_type": "code",
   "execution_count": 14,
   "metadata": {},
   "outputs": [],
   "source": [
    "#Auxiliary function that takes in agent and outputs score ... Environment step function will have two step\n",
    "def score_from_location(location):\n",
    "  if location == 7:\n",
    "    score = 0\n",
    "\n",
    "  elif location == 5:\n",
    "    score = 1\n",
    "\n",
    "  else:\n",
    "    score = 2\n",
    "\n",
    "  return score"
   ]
  },
  {
   "cell_type": "markdown",
   "metadata": {},
   "source": []
  },
  {
   "cell_type": "code",
   "execution_count": 15,
   "metadata": {},
   "outputs": [
    {
     "name": "stdout",
     "output_type": "stream",
     "text": [
      "TIMESTEP: 0\n",
      "Qs 0: 0\n",
      "Qs 1: 0\n",
      "next_action: DOWN\n",
      "location_observation: 3\n",
      "score_observation: 2\n"
     ]
    },
    {
     "data": {
      "image/png": "[encoded data removed]",
      "text/plain": [
       "<Figure size 200x200 with 1 Axes>"
      ]
     },
     "metadata": {},
     "output_type": "display_data"
    },
    {
     "name": "stdout",
     "output_type": "stream",
     "text": [
      "TIMESTEP: 1\n",
      "Qs 0: 3\n",
      "Qs 1: 0\n",
      "next_action: RIGHT\n",
      "location_observation: 4\n",
      "score_observation: 2\n"
     ]
    },
    {
     "data": {
      "image/png": "[encoded data removed]",
      "text/plain": [
       "<Figure size 200x200 with 1 Axes>"
      ]
     },
     "metadata": {},
     "output_type": "display_data"
    },
    {
     "name": "stdout",
     "output_type": "stream",
     "text": [
      "Omega: [array([[0.52305006, 0.87437962, 0.32129919, 0.93765968],\n",
      "        [0.34417185, 0.97653709, 0.07349644, 0.76527895],\n",
      "        [0.92208642, 0.67802583, 0.0032571 , 0.12633567],\n",
      "        [0.79416934, 0.95572676, 0.06530825, 0.62710561],\n",
      "        [0.24045255, 0.93544086, 0.54866183, 0.20385112],\n",
      "        [0.2870527 , 0.84023256, 0.64301389, 0.0809418 ],\n",
      "        [0.0968861 , 0.76904747, 0.97791099, 0.96484278],\n",
      "        [0.64562658, 0.25089443, 0.76455066, 0.24736349],\n",
      "        [0.6711184 , 0.3669064 , 0.19005291, 0.30274324]])\n",
      " array([[0.80058327],\n",
      "        [0.92398857]])]\n",
      "TIMESTEP: 2\n",
      "Qs 0: 4\n",
      "Qs 1: 0\n",
      "next_action: DOWN\n",
      "location_observation: 7\n",
      "score_observation: 0\n"
     ]
    },
    {
     "data": {
      "image/png": "[encoded data removed]",
      "text/plain": [
       "<Figure size 200x200 with 1 Axes>"
      ]
     },
     "metadata": {},
     "output_type": "display_data"
    },
    {
     "name": "stdout",
     "output_type": "stream",
     "text": [
      "Omega: [array([[0.52305005, 0.87437961, 0.32129918, 0.93765967],\n",
      "        [0.34417182, 0.97653706, 0.07349641, 0.76527893],\n",
      "        [0.92208638, 0.67802579, 0.00325706, 0.12633564],\n",
      "        [0.79416933, 0.95572675, 0.06530824, 0.6271056 ],\n",
      "        [0.24045252, 0.93544084, 0.5486618 , 0.20385109],\n",
      "        [0.28705254, 0.8402324 , 0.64301373, 0.08094164],\n",
      "        [0.0968861 , 0.76904747, 0.97791099, 0.96484278],\n",
      "        [0.64562655, 0.2508944 , 0.76455064, 0.24736347],\n",
      "        [0.67111835, 0.36690636, 0.19005287, 0.3027432 ]])\n",
      " array([[0.80052802],\n",
      "        [0.92412766]])]\n",
      "TIMESTEP: 3\n",
      "Qs 0: 7\n",
      "Qs 1: 0\n",
      "next_action: DOWN\n",
      "location_observation: 7\n",
      "score_observation: 0\n"
     ]
    },
    {
     "data": {
      "image/png": "[encoded data removed]",
      "text/plain": [
       "<Figure size 200x200 with 1 Axes>"
      ]
     },
     "metadata": {},
     "output_type": "display_data"
    },
    {
     "name": "stdout",
     "output_type": "stream",
     "text": [
      "Omega: [array([[0.52305007, 0.87437963, 0.3212992 , 0.93765969],\n",
      "        [0.34417186, 0.9765371 , 0.07349645, 0.76527896],\n",
      "        [0.92208644, 0.67802585, 0.00325712, 0.12633569],\n",
      "        [0.79416936, 0.95572677, 0.06530826, 0.62710562],\n",
      "        [0.24045256, 0.93544087, 0.54866184, 0.20385113],\n",
      "        [0.28705271, 0.84023257, 0.6430139 , 0.08094181],\n",
      "        [0.09688611, 0.76904748, 0.977911  , 0.96484279],\n",
      "        [0.64562659, 0.25089444, 0.76455067, 0.2473635 ],\n",
      "        [0.67111841, 0.36690641, 0.19005292, 0.30274326]])\n",
      " array([[4.22205251],\n",
      "        [7.9269045 ]])]\n",
      "TIMESTEP: 4\n",
      "Qs 0: 7\n",
      "Qs 1: 0\n",
      "next_action: DOWN\n",
      "location_observation: 7\n",
      "score_observation: 0\n"
     ]
    },
    {
     "data": {
      "image/png": "[encoded data removed]",
      "text/plain": [
       "<Figure size 200x200 with 1 Axes>"
      ]
     },
     "metadata": {},
     "output_type": "display_data"
    },
    {
     "name": "stdout",
     "output_type": "stream",
     "text": [
      "Omega: [array([[0.52305007, 0.87437963, 0.3212992 , 0.93765969],\n",
      "        [0.34417186, 0.9765371 , 0.07349645, 0.76527896],\n",
      "        [0.92208644, 0.67802585, 0.00325712, 0.12633569],\n",
      "        [0.79416936, 0.95572677, 0.06530826, 0.62710562],\n",
      "        [0.24045256, 0.93544087, 0.54866184, 0.20385113],\n",
      "        [0.28705271, 0.84023257, 0.6430139 , 0.08094181],\n",
      "        [0.09688611, 0.76904748, 0.977911  , 0.96484279],\n",
      "        [0.64562659, 0.25089444, 0.76455067, 0.2473635 ],\n",
      "        [0.67111841, 0.36690641, 0.19005292, 0.30274326]])\n",
      " array([[0.80055119],\n",
      "        [7.55069422]])]\n",
      "TIMESTEP: 5\n",
      "Qs 0: 7\n",
      "Qs 1: 1\n",
      "next_action: UP\n",
      "location_observation: 4\n",
      "score_observation: 2\n"
     ]
    },
    {
     "data": {
      "image/png": "[encoded data removed]",
      "text/plain": [
       "<Figure size 200x200 with 1 Axes>"
      ]
     },
     "metadata": {},
     "output_type": "display_data"
    },
    {
     "name": "stdout",
     "output_type": "stream",
     "text": [
      "Omega: [array([[0.52305007, 0.87437963, 0.3212992 , 0.93765969],\n",
      "        [0.34417186, 0.9765371 , 0.07349645, 0.76527896],\n",
      "        [0.92208644, 0.67802585, 0.00325712, 0.12633569],\n",
      "        [0.79416936, 0.95572677, 0.06530826, 0.62710562],\n",
      "        [0.24045256, 0.93544087, 0.54866184, 0.20385113],\n",
      "        [0.28705271, 0.84023257, 0.6430139 , 0.08094181],\n",
      "        [0.09688611, 0.76904748, 0.977911  , 0.96484279],\n",
      "        [0.64562659, 0.25089444, 0.76455067, 0.2473635 ],\n",
      "        [0.67111841, 0.36690641, 0.19005292, 0.30274326]])\n",
      " array([[0.80038381],\n",
      "        [3.75165914]])]\n",
      "TIMESTEP: 6\n",
      "Qs 0: 4\n",
      "Qs 1: 0\n",
      "next_action: DOWN\n",
      "location_observation: 7\n",
      "score_observation: 0\n"
     ]
    },
    {
     "data": {
      "image/png": "[encoded data removed]",
      "text/plain": [
       "<Figure size 200x200 with 1 Axes>"
      ]
     },
     "metadata": {},
     "output_type": "display_data"
    },
    {
     "name": "stdout",
     "output_type": "stream",
     "text": [
      "Omega: [array([[0.52305007, 0.87437963, 0.3212992 , 0.93765969],\n",
      "        [0.34417186, 0.9765371 , 0.07349645, 0.76527896],\n",
      "        [0.92208644, 0.67802585, 0.00325712, 0.12633569],\n",
      "        [0.79416936, 0.95572677, 0.06530826, 0.62710562],\n",
      "        [0.24045256, 0.93544087, 0.54866184, 0.20385113],\n",
      "        [0.28705271, 0.84023257, 0.6430139 , 0.08094181],\n",
      "        [0.09688611, 0.76904748, 0.977911  , 0.96484279],\n",
      "        [0.64562659, 0.25089444, 0.76455067, 0.2473635 ],\n",
      "        [0.67111841, 0.36690641, 0.19005292, 0.30274326]])\n",
      " array([[0.84759246],\n",
      "        [2.59234011]])]\n",
      "TIMESTEP: 7\n",
      "Qs 0: 7\n",
      "Qs 1: 0\n",
      "next_action: DOWN\n",
      "location_observation: 7\n",
      "score_observation: 0\n"
     ]
    },
    {
     "data": {
      "image/png": "[encoded data removed]",
      "text/plain": [
       "<Figure size 200x200 with 1 Axes>"
      ]
     },
     "metadata": {},
     "output_type": "display_data"
    },
    {
     "name": "stdout",
     "output_type": "stream",
     "text": [
      "Omega: [array([[0.52305007, 0.87437963, 0.3212992 , 0.93765969],\n",
      "        [0.34417186, 0.9765371 , 0.07349645, 0.76527896],\n",
      "        [0.92208644, 0.67802585, 0.00325712, 0.12633569],\n",
      "        [0.79416936, 0.95572677, 0.06530826, 0.62710562],\n",
      "        [0.24045256, 0.93544087, 0.54866184, 0.20385113],\n",
      "        [0.28705271, 0.84023257, 0.6430139 , 0.08094181],\n",
      "        [0.09688611, 0.76904748, 0.977911  , 0.96484279],\n",
      "        [0.64562659, 0.25089444, 0.76455067, 0.2473635 ],\n",
      "        [0.67111841, 0.36690641, 0.19005292, 0.30274326]])\n",
      " array([[0.82119742],\n",
      "        [9.21438207]])]\n",
      "TIMESTEP: 8\n",
      "Qs 0: 7\n",
      "Qs 1: 0\n",
      "next_action: DOWN\n",
      "location_observation: 7\n",
      "score_observation: 0\n"
     ]
    },
    {
     "data": {
      "image/png": "[encoded data removed]",
      "text/plain": [
       "<Figure size 200x200 with 1 Axes>"
      ]
     },
     "metadata": {},
     "output_type": "display_data"
    },
    {
     "name": "stdout",
     "output_type": "stream",
     "text": [
      "Omega: [array([[0.52305007, 0.87437963, 0.3212992 , 0.93765969],\n",
      "        [0.34417186, 0.9765371 , 0.07349645, 0.76527896],\n",
      "        [0.92208644, 0.67802585, 0.00325712, 0.12633569],\n",
      "        [0.79416936, 0.95572677, 0.06530826, 0.62710562],\n",
      "        [0.24045256, 0.93544087, 0.54866184, 0.20385113],\n",
      "        [0.28705271, 0.84023257, 0.6430139 , 0.08094181],\n",
      "        [0.09688611, 0.76904748, 0.977911  , 0.96484279],\n",
      "        [0.64562659, 0.25089444, 0.76455067, 0.2473635 ],\n",
      "        [0.67111841, 0.36690641, 0.19005292, 0.30274326]])\n",
      " array([[ 0.80054947],\n",
      "        [15.79870841]])]\n",
      "TIMESTEP: 9\n",
      "Qs 0: 7\n",
      "Qs 1: 0\n",
      "next_action: DOWN\n",
      "location_observation: 7\n",
      "score_observation: 0\n"
     ]
    },
    {
     "data": {
      "image/png": "[encoded data removed]",
      "text/plain": [
       "<Figure size 200x200 with 1 Axes>"
      ]
     },
     "metadata": {},
     "output_type": "display_data"
    },
    {
     "name": "stdout",
     "output_type": "stream",
     "text": [
      "Omega: [array([[0.52305007, 0.87437963, 0.3212992 , 0.93765969],\n",
      "        [0.34417186, 0.9765371 , 0.07349645, 0.76527896],\n",
      "        [0.92208644, 0.67802585, 0.00325712, 0.12633569],\n",
      "        [0.79416936, 0.95572677, 0.06530826, 0.62710562],\n",
      "        [0.24045256, 0.93544087, 0.54866184, 0.20385113],\n",
      "        [0.28705271, 0.84023257, 0.6430139 , 0.08094181],\n",
      "        [0.09688611, 0.76904748, 0.977911  , 0.96484279],\n",
      "        [0.64562659, 0.25089444, 0.76455067, 0.2473635 ],\n",
      "        [0.67111841, 0.36690641, 0.19005292, 0.30274326]])\n",
      " array([[ 0.80054947],\n",
      "        [19.50552047]])]\n"
     ]
    }
   ],
   "source": [
    "#make sure whatever comes out of env is [list of indices] over observations and pass this to agent.infer_states\n",
    "from pymdp.envs.grid_worlds import GridWorldEnv\n",
    "from pymdp.learning import update_zeta, update_omega, update_gamma\n",
    "\n",
    "env = GridWorldEnv(shape = [3,3], init_state=0)\n",
    "\n",
    "T = 10\n",
    "\n",
    "\n",
    "#agent = agent_omega_fs\n",
    "agent = agent_zeta_omega\n",
    "\n",
    "\n",
    "initial_location_observation = 0\n",
    "initial_score_observation = score_from_location(initial_location_observation)\n",
    "observation = [0, 2]\n",
    "\n",
    "\n",
    "\n",
    "for t in range(T):\n",
    "    print(f\"TIMESTEP: {t}\")\n",
    "\n",
    "    qs = agent.infer_states(observation)\n",
    "    print(f\"Qs 0: {np.argmax(qs[0])}\")\n",
    "    print(f\"Qs 1: {np.argmax(qs[1])}\")\n",
    "\n",
    "    q_pi, G = agent.infer_policies()\n",
    "    next_action = agent.sample_action()\n",
    "    next_action = int(next_action[0])\n",
    "    print(f\"next_action: {location_action_names[next_action]}\")\n",
    "    location_observation = env.step(next_action)\n",
    "    print(f\"location_observation: {location_observation}\")\n",
    "    score_observation = score_from_location(location_observation)\n",
    "    print(f\"score_observation: {score_observation}\")\n",
    "    observation = [location_observation, score_observation]\n",
    "\n",
    "    \n",
    "    plot_grid(grid_width, grid_height, location_observation)\n",
    "\n",
    "    # agent.beta_zeta, agent.beta_zeta_prior = \n",
    "    # \n",
    "    # (observation, agent.A, agent.beta_zeta, agent.qs, agent.beta_zeta_prior, agent.A_factor_list, update_prior = False)\n",
    "    # print(f\"Zeta: {agent.beta_zeta}\")\n",
    "\n",
    "    if t > 0:\n",
    "\n",
    "        agent.beta_omega, agent.beta_omega_prior = update_omega(q_pi, agent.qs_pi_policy, agent.qs_pi_policy_previous, B, agent.beta_omega, agent.beta_omega_prior, agent.policies, agent.B_factor_list)\n",
    "        print(f\"Omega: {agent.beta_omega}\")\n",
    "\n",
    "        agent.beta_zeta, agent.beta_zeta_prior = update_zeta(observation, agent.A, agent.beta_zeta, agent.qs, agent.beta_zeta_prior, agent.A_factor_list, update_prior = False)\n",
    "        print(f\"Zeta: {agent.beta_zeta}\")\n",
    "        agent.gamma = update_gamma(agent.G, agent.gamma, agent.q_pi, agent.policies)\n",
    "\n",
    "        print(f\"Gamma: {agent.gamma}\")\n"
   ]
  },
  {
   "cell_type": "code",
   "execution_count": 16,
   "metadata": {},
   "outputs": [
    {
     "data": {
      "text/plain": [
       "array([array([[0.52305007, 0.87437963, 0.3212992 , 0.93765969],\n",
       "              [0.34417186, 0.9765371 , 0.07349645, 0.76527896],\n",
       "              [0.92208644, 0.67802585, 0.00325712, 0.12633569],\n",
       "              [0.79416936, 0.95572677, 0.06530826, 0.62710562],\n",
       "              [0.24045256, 0.93544087, 0.54866184, 0.20385113],\n",
       "              [0.28705271, 0.84023257, 0.6430139 , 0.08094181],\n",
       "              [0.09688611, 0.76904748, 0.977911  , 0.96484279],\n",
       "              [0.64562659, 0.25089444, 0.76455067, 0.2473635 ],\n",
       "              [0.67111841, 0.36690641, 0.19005292, 0.30274326]]),\n",
       "       array([[ 0.80054947],\n",
       "              [19.50552047]])], dtype=object)"
      ]
     },
     "execution_count": 16,
     "metadata": {},
     "output_type": "execute_result"
    }
   ],
   "source": [
    "agent.beta_omega"
   ]
  },
  {
   "cell_type": "code",
   "execution_count": 17,
   "metadata": {},
   "outputs": [
    {
     "data": {
      "text/plain": [
       "array([array([[0.52305007, 0.87437963, 0.3212992 , 0.93765969],\n",
       "              [0.34417186, 0.9765371 , 0.07349645, 0.76527896],\n",
       "              [0.92208644, 0.67802585, 0.00325712, 0.12633569],\n",
       "              [0.79416936, 0.95572677, 0.06530826, 0.62710562],\n",
       "              [0.24045256, 0.93544087, 0.54866184, 0.20385113],\n",
       "              [0.28705271, 0.84023257, 0.6430139 , 0.08094181],\n",
       "              [0.09688611, 0.76904748, 0.977911  , 0.96484279],\n",
       "              [0.64562659, 0.25089444, 0.76455067, 0.2473635 ],\n",
       "              [0.67111841, 0.36690641, 0.19005292, 0.30274326]]),\n",
       "       array([[0.80054947],\n",
       "              [0.92368254]])], dtype=object)"
      ]
     },
     "execution_count": 17,
     "metadata": {},
     "output_type": "execute_result"
    }
   ],
   "source": [
    "agent.beta_omega_prior"
   ]
  },
  {
   "cell_type": "code",
   "execution_count": 18,
   "metadata": {},
   "outputs": [
    {
     "data": {
      "text/plain": [
       "array([[0.52305007, 0.87437963, 0.3212992 , 0.93765969],\n",
       "       [0.34417186, 0.9765371 , 0.07349645, 0.76527896],\n",
       "       [0.92208644, 0.67802585, 0.00325712, 0.12633569],\n",
       "       [0.79416936, 0.95572677, 0.06530826, 0.62710562],\n",
       "       [0.24045256, 0.93544087, 0.54866184, 0.20385113],\n",
       "       [0.28705271, 0.84023257, 0.6430139 , 0.08094181],\n",
       "       [0.09688611, 0.76904748, 0.977911  , 0.96484279],\n",
       "       [0.64562659, 0.25089444, 0.76455067, 0.2473635 ],\n",
       "       [0.67111841, 0.36690641, 0.19005292, 0.30274326]])"
      ]
     },
     "execution_count": 18,
     "metadata": {},
     "output_type": "execute_result"
    }
   ],
   "source": [
    "agent.beta_omega_prior[0]"
   ]
  },
  {
   "cell_type": "code",
   "execution_count": 19,
   "metadata": {},
   "outputs": [
    {
     "data": {
      "text/plain": [
       "array([0., 0., 0., 0., 0., 0., 0., 0., 0., 0., 0., 0., 0., 0., 0., 0., 0.,\n",
       "       0., 0., 0., 0., 0., 0., 0., 0., 0., 0., 0., 0., 0., 0., 0., 0., 0.,\n",
       "       0., 0., 0., 0., 0., 0., 0., 0., 1., 0., 0., 0., 0., 0., 0., 0., 0.,\n",
       "       0., 0., 0., 0., 0., 0., 0., 0., 0., 0., 0., 0., 0.])"
      ]
     },
     "execution_count": 19,
     "metadata": {},
     "output_type": "execute_result"
    }
   ],
   "source": [
    "agent.q_pi"
   ]
  },
  {
   "cell_type": "code",
   "execution_count": null,
   "metadata": {},
   "outputs": [],
   "source": []
  },
  {
   "cell_type": "code",
   "execution_count": null,
   "metadata": {},
   "outputs": [],
   "source": []
  },
  {
   "cell_type": "code",
   "execution_count": null,
   "metadata": {},
   "outputs": [],
   "source": []
  }
 ],
 "metadata": {
  "kernelspec": {
   "display_name": "Python 3",
   "language": "python",
   "name": "python3"
  },
  "language_info": {
   "codemirror_mode": {
    "name": "ipython",
    "version": 3
   },
   "file_extension": ".py",
   "mimetype": "text/x-python",
   "name": "python",
   "nbconvert_exporter": "python",
   "pygments_lexer": "ipython3",
   "version": "3.9.6"
  }
 },
 "nbformat": 4,
 "nbformat_minor": 2
}
